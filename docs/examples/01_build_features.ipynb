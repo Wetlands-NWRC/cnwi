{
 "cells": [
  {
   "cell_type": "code",
   "execution_count": 3,
   "metadata": {},
   "outputs": [
    {
     "name": "stderr",
     "output_type": "stream",
     "text": [
      "/home/rhamilton/code/cnwi/cnwi/cnwilib/data_eng.py:39: UserWarning: This pattern is interpreted as a regular expression, and has match groups. To actually get the groups, use str.extract.\n",
      "  manifest = manifest[manifest[\"file_path\"].astype(str).str.contains(r\"(\\.shp)\")]\n"
     ]
    }
   ],
   "source": [
    "from pathlib import Path\n",
    "from cnwi.cnwilib import data_eng\n",
    "\n",
    "DATA_DIR = Path(\"/home/rhamilton/code/cnwi/test_data/aoi_NS/output/data\")\n",
    "\n",
    "manifest = data_eng.data_manifest(DATA_DIR)\n",
    "\n"
   ]
  },
  {
   "cell_type": "code",
   "execution_count": 4,
   "metadata": {},
   "outputs": [],
   "source": [
    "manifest.to_csv(\"aoi_NS_manifest.csv\", index=False)"
   ]
  },
  {
   "cell_type": "code",
   "execution_count": 5,
   "metadata": {},
   "outputs": [],
   "source": [
    "training, regions, lookup = data_eng.process_data_manifest(manifest)"
   ]
  },
  {
   "cell_type": "code",
   "execution_count": 6,
   "metadata": {},
   "outputs": [
    {
     "data": {
      "text/plain": [
       "(37203, 4)"
      ]
     },
     "execution_count": 6,
     "metadata": {},
     "output_type": "execute_result"
    }
   ],
   "source": [
    "# training.head()\n",
    "training.shape"
   ]
  },
  {
   "cell_type": "code",
   "execution_count": 15,
   "metadata": {},
   "outputs": [
    {
     "data": {
      "text/html": [
       "<div>\n",
       "<style scoped>\n",
       "    .dataframe tbody tr th:only-of-type {\n",
       "        vertical-align: middle;\n",
       "    }\n",
       "\n",
       "    .dataframe tbody tr th {\n",
       "        vertical-align: top;\n",
       "    }\n",
       "\n",
       "    .dataframe thead th {\n",
       "        text-align: right;\n",
       "    }\n",
       "</style>\n",
       "<table border=\"1\" class=\"dataframe\">\n",
       "  <thead>\n",
       "    <tr style=\"text-align: right;\">\n",
       "      <th></th>\n",
       "      <th>ECOREGION_</th>\n",
       "      <th>ECOZONE_ID</th>\n",
       "      <th>ECOPROVINC</th>\n",
       "      <th>ECOREGION1</th>\n",
       "      <th>ECOREGIO_1</th>\n",
       "      <th>Shape_Leng</th>\n",
       "      <th>Shape_Area</th>\n",
       "      <th>geometry</th>\n",
       "      <th>ECOREGION_ID</th>\n",
       "    </tr>\n",
       "  </thead>\n",
       "  <tbody>\n",
       "    <tr>\n",
       "      <th>0</th>\n",
       "      <td>122</td>\n",
       "      <td>7</td>\n",
       "      <td>7.2</td>\n",
       "      <td>Maritime Lowlands</td>\n",
       "      <td>Basses terres des Maritimes</td>\n",
       "      <td>6.336212e+05</td>\n",
       "      <td>7.452965e+09</td>\n",
       "      <td>POLYGON ((-64.19000 45.76084, -64.18320 45.769...</td>\n",
       "      <td>122</td>\n",
       "    </tr>\n",
       "    <tr>\n",
       "      <th>0</th>\n",
       "      <td>123</td>\n",
       "      <td>7</td>\n",
       "      <td>7.3</td>\n",
       "      <td>Fundy Coast</td>\n",
       "      <td>Côte de la baie de Fundy</td>\n",
       "      <td>1.073969e+06</td>\n",
       "      <td>7.174831e+09</td>\n",
       "      <td>POLYGON ((-64.19000 45.76084, -64.20340 45.763...</td>\n",
       "      <td>123</td>\n",
       "    </tr>\n",
       "    <tr>\n",
       "      <th>0</th>\n",
       "      <td>124</td>\n",
       "      <td>7</td>\n",
       "      <td>7.3</td>\n",
       "      <td>Southwest Nova Scotia Uplands</td>\n",
       "      <td>Hautes terres du sud-ouest de la Nouvelle-Écosse</td>\n",
       "      <td>6.950815e+05</td>\n",
       "      <td>1.595689e+10</td>\n",
       "      <td>POLYGON ((-63.65414 44.63406, -63.66537 44.633...</td>\n",
       "      <td>124</td>\n",
       "    </tr>\n",
       "    <tr>\n",
       "      <th>0</th>\n",
       "      <td>125</td>\n",
       "      <td>7</td>\n",
       "      <td>7.3</td>\n",
       "      <td>Atlantic Coast</td>\n",
       "      <td>Côte de l'Atlantique</td>\n",
       "      <td>2.040149e+06</td>\n",
       "      <td>1.541296e+10</td>\n",
       "      <td>POLYGON ((-66.25325 44.22020, -66.22110 44.257...</td>\n",
       "      <td>125</td>\n",
       "    </tr>\n",
       "    <tr>\n",
       "      <th>0</th>\n",
       "      <td>126</td>\n",
       "      <td>7</td>\n",
       "      <td>7.3</td>\n",
       "      <td>Annapolis-Minas Lowlands</td>\n",
       "      <td>Basses terres d'Annapolis-Minas</td>\n",
       "      <td>7.660646e+05</td>\n",
       "      <td>4.725359e+09</td>\n",
       "      <td>POLYGON ((-62.88085 45.32179, -62.88270 45.319...</td>\n",
       "      <td>126</td>\n",
       "    </tr>\n",
       "  </tbody>\n",
       "</table>\n",
       "</div>"
      ],
      "text/plain": [
       "   ECOREGION_  ECOZONE_ID  ECOPROVINC                     ECOREGION1  \\\n",
       "0         122           7         7.2              Maritime Lowlands   \n",
       "0         123           7         7.3                    Fundy Coast   \n",
       "0         124           7         7.3  Southwest Nova Scotia Uplands   \n",
       "0         125           7         7.3                 Atlantic Coast   \n",
       "0         126           7         7.3       Annapolis-Minas Lowlands   \n",
       "\n",
       "                                         ECOREGIO_1    Shape_Leng  \\\n",
       "0                       Basses terres des Maritimes  6.336212e+05   \n",
       "0                          Côte de la baie de Fundy  1.073969e+06   \n",
       "0  Hautes terres du sud-ouest de la Nouvelle-Écosse  6.950815e+05   \n",
       "0                              Côte de l'Atlantique  2.040149e+06   \n",
       "0                   Basses terres d'Annapolis-Minas  7.660646e+05   \n",
       "\n",
       "     Shape_Area                                           geometry  \\\n",
       "0  7.452965e+09  POLYGON ((-64.19000 45.76084, -64.18320 45.769...   \n",
       "0  7.174831e+09  POLYGON ((-64.19000 45.76084, -64.20340 45.763...   \n",
       "0  1.595689e+10  POLYGON ((-63.65414 44.63406, -63.66537 44.633...   \n",
       "0  1.541296e+10  POLYGON ((-66.25325 44.22020, -66.22110 44.257...   \n",
       "0  4.725359e+09  POLYGON ((-62.88085 45.32179, -62.88270 45.319...   \n",
       "\n",
       "   ECOREGION_ID  \n",
       "0           122  \n",
       "0           123  \n",
       "0           124  \n",
       "0           125  \n",
       "0           126  "
      ]
     },
     "execution_count": 15,
     "metadata": {},
     "output_type": "execute_result"
    }
   ],
   "source": [
    "regions.head()"
   ]
  },
  {
   "cell_type": "code",
   "execution_count": 16,
   "metadata": {},
   "outputs": [
    {
     "data": {
      "text/html": [
       "<div>\n",
       "<style scoped>\n",
       "    .dataframe tbody tr th:only-of-type {\n",
       "        vertical-align: middle;\n",
       "    }\n",
       "\n",
       "    .dataframe tbody tr th {\n",
       "        vertical-align: top;\n",
       "    }\n",
       "\n",
       "    .dataframe thead th {\n",
       "        text-align: right;\n",
       "    }\n",
       "</style>\n",
       "<table border=\"1\" class=\"dataframe\">\n",
       "  <thead>\n",
       "    <tr style=\"text-align: right;\">\n",
       "      <th></th>\n",
       "      <th>0</th>\n",
       "    </tr>\n",
       "  </thead>\n",
       "  <tbody>\n",
       "    <tr>\n",
       "      <th>Marsh</th>\n",
       "      <td>1</td>\n",
       "    </tr>\n",
       "    <tr>\n",
       "      <th>Open water</th>\n",
       "      <td>2</td>\n",
       "    </tr>\n",
       "    <tr>\n",
       "      <th>Swamp</th>\n",
       "      <td>3</td>\n",
       "    </tr>\n",
       "    <tr>\n",
       "      <th>Salt marsh</th>\n",
       "      <td>4</td>\n",
       "    </tr>\n",
       "    <tr>\n",
       "      <th>Fen</th>\n",
       "      <td>5</td>\n",
       "    </tr>\n",
       "    <tr>\n",
       "      <th>Bog</th>\n",
       "      <td>6</td>\n",
       "    </tr>\n",
       "    <tr>\n",
       "      <th>Upland</th>\n",
       "      <td>7</td>\n",
       "    </tr>\n",
       "    <tr>\n",
       "      <th>Shallow water</th>\n",
       "      <td>8</td>\n",
       "    </tr>\n",
       "  </tbody>\n",
       "</table>\n",
       "</div>"
      ],
      "text/plain": [
       "               0\n",
       "Marsh          1\n",
       "Open water     2\n",
       "Swamp          3\n",
       "Salt marsh     4\n",
       "Fen            5\n",
       "Bog            6\n",
       "Upland         7\n",
       "Shallow water  8"
      ]
     },
     "execution_count": 16,
     "metadata": {},
     "output_type": "execute_result"
    }
   ],
   "source": [
    "lookup"
   ]
  },
  {
   "cell_type": "code",
   "execution_count": 17,
   "metadata": {},
   "outputs": [],
   "source": [
    "from pathlib import Path\n",
    "\n",
    "output_dir = Path(\"output\")\n",
    "if not output_dir.exists():\n",
    "    output_dir.mkdir()\n",
    "\n",
    "training.to_file(output_dir / \"training.geojson\", driver=\"GeoJSON\")\n",
    "regions.to_file(output_dir / \"regions.geojson\", driver=\"GeoJSON\")\n",
    "lookup.to_csv(output_dir / \"lookup.csv\")"
   ]
  },
  {
   "cell_type": "code",
   "execution_count": 18,
   "metadata": {},
   "outputs": [
    {
     "name": "stderr",
     "output_type": "stream",
     "text": [
      "/home/rhamilton/code/cnwi/cnwi/cnwilib/data_eng.py:104: UserWarning: Column names longer than 10 characters will be truncated when saved to ESRI Shapefile.\n",
      "  group.to_file(scratch / f\"{file_prefix}_{_}.shp\", driver=\"ESRI Shapefile\")\n",
      "/home/rhamilton/code/cnwi/cnwi/cnwilib/data_eng.py:104: UserWarning: Column names longer than 10 characters will be truncated when saved to ESRI Shapefile.\n",
      "  group.to_file(scratch / f\"{file_prefix}_{_}.shp\", driver=\"ESRI Shapefile\")\n",
      "/home/rhamilton/code/cnwi/cnwi/cnwilib/data_eng.py:104: UserWarning: Column names longer than 10 characters will be truncated when saved to ESRI Shapefile.\n",
      "  group.to_file(scratch / f\"{file_prefix}_{_}.shp\", driver=\"ESRI Shapefile\")\n",
      "/home/rhamilton/code/cnwi/cnwi/cnwilib/data_eng.py:104: UserWarning: Column names longer than 10 characters will be truncated when saved to ESRI Shapefile.\n",
      "  group.to_file(scratch / f\"{file_prefix}_{_}.shp\", driver=\"ESRI Shapefile\")\n",
      "/home/rhamilton/code/cnwi/cnwi/cnwilib/data_eng.py:104: UserWarning: Column names longer than 10 characters will be truncated when saved to ESRI Shapefile.\n",
      "  group.to_file(scratch / f\"{file_prefix}_{_}.shp\", driver=\"ESRI Shapefile\")\n",
      "/home/rhamilton/code/cnwi/cnwi/cnwilib/data_eng.py:104: UserWarning: Column names longer than 10 characters will be truncated when saved to ESRI Shapefile.\n",
      "  group.to_file(scratch / f\"{file_prefix}_{_}.shp\", driver=\"ESRI Shapefile\")\n",
      "/home/rhamilton/code/cnwi/cnwi/cnwilib/data_eng.py:104: UserWarning: Column names longer than 10 characters will be truncated when saved to ESRI Shapefile.\n",
      "  group.to_file(scratch / f\"{file_prefix}_{_}.shp\", driver=\"ESRI Shapefile\")\n",
      "/home/rhamilton/code/cnwi/cnwi/cnwilib/data_eng.py:104: UserWarning: Column names longer than 10 characters will be truncated when saved to ESRI Shapefile.\n",
      "  group.to_file(scratch / f\"{file_prefix}_{_}.shp\", driver=\"ESRI Shapefile\")\n"
     ]
    }
   ],
   "source": [
    "data_eng.split_and_zip(training,\"ECOREGION_ID\", output_dir)"
   ]
  },
  {
   "cell_type": "code",
   "execution_count": 19,
   "metadata": {},
   "outputs": [
    {
     "name": "stderr",
     "output_type": "stream",
     "text": [
      "/home/rhamilton/code/cnwi/cnwi/cnwilib/data_eng.py:104: UserWarning: Column names longer than 10 characters will be truncated when saved to ESRI Shapefile.\n",
      "  group.to_file(scratch / f\"{file_prefix}_{_}.shp\", driver=\"ESRI Shapefile\")\n",
      "/home/rhamilton/code/cnwi/cnwi/cnwilib/data_eng.py:104: UserWarning: Column names longer than 10 characters will be truncated when saved to ESRI Shapefile.\n",
      "  group.to_file(scratch / f\"{file_prefix}_{_}.shp\", driver=\"ESRI Shapefile\")\n",
      "/home/rhamilton/code/cnwi/cnwi/cnwilib/data_eng.py:104: UserWarning: Column names longer than 10 characters will be truncated when saved to ESRI Shapefile.\n",
      "  group.to_file(scratch / f\"{file_prefix}_{_}.shp\", driver=\"ESRI Shapefile\")\n",
      "/home/rhamilton/code/cnwi/cnwi/cnwilib/data_eng.py:104: UserWarning: Column names longer than 10 characters will be truncated when saved to ESRI Shapefile.\n",
      "  group.to_file(scratch / f\"{file_prefix}_{_}.shp\", driver=\"ESRI Shapefile\")\n",
      "/home/rhamilton/code/cnwi/cnwi/cnwilib/data_eng.py:104: UserWarning: Column names longer than 10 characters will be truncated when saved to ESRI Shapefile.\n",
      "  group.to_file(scratch / f\"{file_prefix}_{_}.shp\", driver=\"ESRI Shapefile\")\n",
      "/home/rhamilton/code/cnwi/cnwi/cnwilib/data_eng.py:104: UserWarning: Column names longer than 10 characters will be truncated when saved to ESRI Shapefile.\n",
      "  group.to_file(scratch / f\"{file_prefix}_{_}.shp\", driver=\"ESRI Shapefile\")\n",
      "/home/rhamilton/code/cnwi/cnwi/cnwilib/data_eng.py:104: UserWarning: Column names longer than 10 characters will be truncated when saved to ESRI Shapefile.\n",
      "  group.to_file(scratch / f\"{file_prefix}_{_}.shp\", driver=\"ESRI Shapefile\")\n",
      "/home/rhamilton/code/cnwi/cnwi/cnwilib/data_eng.py:104: UserWarning: Column names longer than 10 characters will be truncated when saved to ESRI Shapefile.\n",
      "  group.to_file(scratch / f\"{file_prefix}_{_}.shp\", driver=\"ESRI Shapefile\")\n"
     ]
    }
   ],
   "source": [
    "data_eng.split_and_zip(regions,\"ECOREGION_ID\", output_dir, file_prefix=\"regions\")"
   ]
  },
  {
   "cell_type": "code",
   "execution_count": null,
   "metadata": {},
   "outputs": [],
   "source": []
  }
 ],
 "metadata": {
  "kernelspec": {
   "display_name": "Python 3",
   "language": "python",
   "name": "python3"
  },
  "language_info": {
   "codemirror_mode": {
    "name": "ipython",
    "version": 3
   },
   "file_extension": ".py",
   "mimetype": "text/x-python",
   "name": "python",
   "nbconvert_exporter": "python",
   "pygments_lexer": "ipython3",
   "version": "3.11.6"
  }
 },
 "nbformat": 4,
 "nbformat_minor": 2
}
