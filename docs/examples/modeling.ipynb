{
 "cells": [
  {
   "cell_type": "code",
   "execution_count": 2,
   "metadata": {},
   "outputs": [],
   "source": [
    "import ee\n",
    "\n",
    "ee.Initialize()"
   ]
  },
  {
   "cell_type": "code",
   "execution_count": 3,
   "metadata": {},
   "outputs": [],
   "source": [
    "def split(features: ee.FeatureCollection) -> tuple[ee.FeatureCollection, ee.FeatureCollection]:\n",
    "    train = features.filter(ee.Filter.eq('type', 1))\n",
    "    test = features.filter(ee.Filter.eq('type', 2))\n",
    "    return train, test"
   ]
  },
  {
   "cell_type": "code",
   "execution_count": 4,
   "metadata": {},
   "outputs": [],
   "source": [
    "features = ee.FeatureCollection(\"projects/ee-nwrc-geomatics/assets/cnwi/sampled_features_122\")"
   ]
  },
  {
   "cell_type": "code",
   "execution_count": 5,
   "metadata": {},
   "outputs": [],
   "source": [
    "X,Y = split(features)"
   ]
  },
  {
   "cell_type": "code",
   "execution_count": 6,
   "metadata": {},
   "outputs": [
    {
     "name": "stdout",
     "output_type": "stream",
     "text": [
      "['HH', 'HV']\n"
     ]
    }
   ],
   "source": [
    "# load the predictor variables\n",
    "with open(\"./channel_log.txt\", 'r') as f:\n",
    "    channel_log = f.read().splitlines() \n",
    "print(channel_log[0:2])"
   ]
  },
  {
   "cell_type": "code",
   "execution_count": 7,
   "metadata": {},
   "outputs": [
    {
     "data": {
      "text/plain": [
       "<cnwi.cnwilib.random_forest.SmileRandomForest at 0x7f52bdbb8750>"
      ]
     },
     "execution_count": 7,
     "metadata": {},
     "output_type": "execute_result"
    }
   ],
   "source": [
    "from cnwi.cnwilib.random_forest import SmileRandomForest\n",
    "\n",
    "model = SmileRandomForest()\n",
    "model.fit(\n",
    "    features=X,\n",
    "    classProperty='class_name',\n",
    "    inputProperties=channel_log, \n",
    ")\n"
   ]
  },
  {
   "cell_type": "code",
   "execution_count": 8,
   "metadata": {},
   "outputs": [],
   "source": [
    "predict = model.predict(Y)"
   ]
  },
  {
   "cell_type": "code",
   "execution_count": 9,
   "metadata": {},
   "outputs": [],
   "source": [
    "from cnwi.cnwilib.assessment import AssessmentTable\n",
    "assessment = AssessmentTable(\n",
    "    predictions=predict,\n",
    "    actual='class_name',\n",
    "    class_order=features.aggregate_array('class_name').distinct(),\n",
    ")\n",
    "\n",
    "cfm = assessment.create_metrics()\n"
   ]
  },
  {
   "cell_type": "code",
   "execution_count": 10,
   "metadata": {},
   "outputs": [],
   "source": [
    "# task = ee.batch.Export.table.toDrive(\n",
    "#     collection=cfm,\n",
    "#     description='cnwi_cfm',\n",
    "#     fileFormat='GeoJSON'\n",
    "# )\n",
    "# task.start()\n",
    "\n",
    "\n"
   ]
  },
  {
   "cell_type": "code",
   "execution_count": 11,
   "metadata": {},
   "outputs": [],
   "source": [
    "# export the model\n",
    "model_task = model.save_model(asset_name='projects/ee-nwrc-geomatics/assets/cnwi/models/cnwi_model_122')\n",
    "model_task.start()"
   ]
  },
  {
   "cell_type": "code",
   "execution_count": null,
   "metadata": {},
   "outputs": [],
   "source": []
  }
 ],
 "metadata": {
  "kernelspec": {
   "display_name": "Python 3",
   "language": "python",
   "name": "python3"
  },
  "language_info": {
   "codemirror_mode": {
    "name": "ipython",
    "version": 3
   },
   "file_extension": ".py",
   "mimetype": "text/x-python",
   "name": "python",
   "nbconvert_exporter": "python",
   "pygments_lexer": "ipython3",
   "version": "3.11.6"
  }
 },
 "nbformat": 4,
 "nbformat_minor": 2
}
