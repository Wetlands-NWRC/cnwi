{
 "cells": [
  {
   "cell_type": "code",
   "execution_count": 1,
   "metadata": {},
   "outputs": [],
   "source": [
    "import ee\n"
   ]
  },
  {
   "cell_type": "code",
   "execution_count": 2,
   "metadata": {},
   "outputs": [],
   "source": [
    "ee.Initialize()"
   ]
  },
  {
   "cell_type": "code",
   "execution_count": 3,
   "metadata": {},
   "outputs": [],
   "source": [
    "from cnwi.fourier_transform import compute_fourier_transform"
   ]
  },
  {
   "cell_type": "code",
   "execution_count": 4,
   "metadata": {},
   "outputs": [],
   "source": [
    "# cloud mask function\n",
    "def mask_l8_sr(image: ee.Image):\n",
    "    \"\"\"Masks clouds in Landsat 8 SR image.\"\"\"\n",
    "    qa_mask = image.select('QA_PIXEL').bitwiseAnd(2 ** 4).eq(0)\n",
    "    saturation_mask = image.select('QA_RADSAT').eq(0)\n",
    "\n",
    "    # Apply the scaling factors to the appropriate bands.\n",
    "    optical_bands = image.select('SR_B.*').multiply(0.0000275).add(-0.2)\n",
    "    thermal_bands = image.select('ST_B.*').multiply(0.00341802).add(149.0)\n",
    "\n",
    "    # Replace the original bands with the scaled ones and apply the masks.\n",
    "    return image.addBands(optical_bands, None, True) \\\n",
    "        .addBands(thermal_bands, None, True) \\\n",
    "        .updateMask(qa_mask) \\\n",
    "        .updateMask(saturation_mask)\n"
   ]
  },
  {
   "cell_type": "code",
   "execution_count": 5,
   "metadata": {},
   "outputs": [],
   "source": [
    "from typing import Callable\n",
    "def add_ndvi(nir: str, red: str) -> Callable[[ee.Image], ee.Image]:\n",
    "    \"\"\"Adds NDVI band to an image.\"\"\"\n",
    "    def _add_ndvi(image: ee.Image) -> ee.Image:\n",
    "        return image.addBands(image.normalizedDifference([nir, red]).rename('NDVI'))\n",
    "    return _add_ndvi"
   ]
  },
  {
   "cell_type": "code",
   "execution_count": 6,
   "metadata": {},
   "outputs": [],
   "source": [
    "# Image Collection Pre Processing\n",
    "collection = (\n",
    "    ee.ImageCollection('LANDSAT/LC08/C02/T1_L2')\n",
    "    .filterDate('2018', '2022')\n",
    "    .filterBounds(ee.Geometry.Point(-77.17593890457817, 44.095224852158104))\n",
    "    .map(mask_l8_sr)\n",
    "    .map(add_ndvi('SR_B5', 'SR_B4'))\n",
    ")"
   ]
  },
  {
   "cell_type": "code",
   "execution_count": 7,
   "metadata": {},
   "outputs": [],
   "source": [
    "# Compute Fourier Transform from the pre processed image collection\n",
    "fourier_transform = compute_fourier_transform(collection, 'NDVI')"
   ]
  },
  {
   "cell_type": "code",
   "execution_count": 8,
   "metadata": {},
   "outputs": [
    {
     "data": {
      "text/plain": [
       "['NDVI',\n",
       " 'constant_coef',\n",
       " 't_coef',\n",
       " 'cos_1_coef',\n",
       " 'cos_2_coef',\n",
       " 'cos_3_coef',\n",
       " 'sin_1_coef',\n",
       " 'sin_2_coef',\n",
       " 'sin_3_coef',\n",
       " 'phase_1',\n",
       " 'amp_1',\n",
       " 'phase_2',\n",
       " 'amp_2',\n",
       " 'phase_3',\n",
       " 'amp_3']"
      ]
     },
     "execution_count": 8,
     "metadata": {},
     "output_type": "execute_result"
    }
   ],
   "source": [
    "fourier_transform.bandNames().getInfo()"
   ]
  },
  {
   "cell_type": "code",
   "execution_count": 9,
   "metadata": {},
   "outputs": [],
   "source": [
    "# visualize the results\n",
    "phase = fourier_transform.select('phase_1')\n",
    "amplitude = fourier_transform.select('amp_1').multiply(5) # multiply by 5 to make it more visible\n",
    "dependent = fourier_transform.select('NDVI')\n",
    "\n",
    "composite = ee.Image([phase, amplitude, dependent]).hsvToRgb()\n"
   ]
  },
  {
   "cell_type": "code",
   "execution_count": 11,
   "metadata": {},
   "outputs": [
    {
     "data": {
      "text/html": [
       "\n",
       "            <style>\n",
       "                .geemap-dark {\n",
       "                    --jp-widgets-color: white;\n",
       "                    --jp-widgets-label-color: white;\n",
       "                    --jp-ui-font-color1: white;\n",
       "                    --jp-layout-color2: #454545;\n",
       "                    background-color: #383838;\n",
       "                }\n",
       "                    \n",
       "                .geemap-dark .jupyter-button {\n",
       "                    --jp-layout-color3: #383838;\n",
       "                }\n",
       "                \n",
       "                .geemap-colab {\n",
       "                    background-color: var(--colab-primary-surface-color, white);\n",
       "                }\n",
       "                    \n",
       "                .geemap-colab .jupyter-button {\n",
       "                    --jp-layout-color3: var(--colab-primary-surface-color, white);\n",
       "                }\n",
       "            </style>\n",
       "            "
      ],
      "text/plain": [
       "<IPython.core.display.HTML object>"
      ]
     },
     "metadata": {},
     "output_type": "display_data"
    },
    {
     "data": {
      "application/vnd.jupyter.widget-view+json": {
       "model_id": "84474e5b3aec4e6098ff303deadb62da",
       "version_major": 2,
       "version_minor": 0
      },
      "text/plain": [
       "Map(center=[0, 0], controls=(WidgetControl(options=['position', 'transparent_bg'], widget=SearchDataGUI(childr…"
      ]
     },
     "execution_count": 11,
     "metadata": {},
     "output_type": "execute_result"
    }
   ],
   "source": [
    "# Visualize the results\n",
    "import geemap \n",
    "Map = geemap.Map()\n",
    "Map.addLayer(composite, {}, 'composite')\n",
    "\n",
    "Map.addLayerControl()\n",
    "Map"
   ]
  },
  {
   "cell_type": "code",
   "execution_count": null,
   "metadata": {},
   "outputs": [],
   "source": []
  }
 ],
 "metadata": {
  "kernelspec": {
   "display_name": "Python 3",
   "language": "python",
   "name": "python3"
  },
  "language_info": {
   "codemirror_mode": {
    "name": "ipython",
    "version": 3
   },
   "file_extension": ".py",
   "mimetype": "text/x-python",
   "name": "python",
   "nbconvert_exporter": "python",
   "pygments_lexer": "ipython3",
   "version": "3.11.6"
  }
 },
 "nbformat": 4,
 "nbformat_minor": 2
}
