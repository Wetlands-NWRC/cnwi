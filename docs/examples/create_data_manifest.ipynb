{
 "cells": [
  {
   "cell_type": "code",
   "execution_count": 1,
   "metadata": {},
   "outputs": [],
   "source": [
    "import os\n",
    "from pathlib import Path\n",
    "import pandas as pd\n",
    "\n",
    "from cnwi.cnwilib.data_eng import Manifest"
   ]
  },
  {
   "cell_type": "code",
   "execution_count": 2,
   "metadata": {},
   "outputs": [],
   "source": [
    "DATA_DIR = Path(\"/home/rhamilton/code/cnwi/test_data/aoi_NS/data\")\n",
    "manifest = Manifest(DATA_DIR)"
   ]
  },
  {
   "cell_type": "code",
   "execution_count": 3,
   "metadata": {},
   "outputs": [
    {
     "data": {
      "text/html": [
       "<div>\n",
       "<style scoped>\n",
       "    .dataframe tbody tr th:only-of-type {\n",
       "        vertical-align: middle;\n",
       "    }\n",
       "\n",
       "    .dataframe tbody tr th {\n",
       "        vertical-align: top;\n",
       "    }\n",
       "\n",
       "    .dataframe thead th {\n",
       "        text-align: right;\n",
       "    }\n",
       "</style>\n",
       "<table border=\"1\" class=\"dataframe\">\n",
       "  <thead>\n",
       "    <tr style=\"text-align: right;\">\n",
       "      <th></th>\n",
       "      <th>file_path</th>\n",
       "      <th>ECOREGION_ID</th>\n",
       "      <th>type</th>\n",
       "      <th>ECOZONE_ID</th>\n",
       "    </tr>\n",
       "  </thead>\n",
       "  <tbody>\n",
       "    <tr>\n",
       "      <th>0</th>\n",
       "      <td>/home/rhamilton/code/cnwi/test_data/aoi_NS/dat...</td>\n",
       "      <td>122</td>\n",
       "      <td>1</td>\n",
       "      <td>7</td>\n",
       "    </tr>\n",
       "    <tr>\n",
       "      <th>1</th>\n",
       "      <td>/home/rhamilton/code/cnwi/test_data/aoi_NS/dat...</td>\n",
       "      <td>122</td>\n",
       "      <td>2</td>\n",
       "      <td>7</td>\n",
       "    </tr>\n",
       "    <tr>\n",
       "      <th>2</th>\n",
       "      <td>/home/rhamilton/code/cnwi/test_data/aoi_NS/dat...</td>\n",
       "      <td>122</td>\n",
       "      <td>3</td>\n",
       "      <td>7</td>\n",
       "    </tr>\n",
       "    <tr>\n",
       "      <th>3</th>\n",
       "      <td>/home/rhamilton/code/cnwi/test_data/aoi_NS/dat...</td>\n",
       "      <td>123</td>\n",
       "      <td>1</td>\n",
       "      <td>7</td>\n",
       "    </tr>\n",
       "    <tr>\n",
       "      <th>4</th>\n",
       "      <td>/home/rhamilton/code/cnwi/test_data/aoi_NS/dat...</td>\n",
       "      <td>123</td>\n",
       "      <td>2</td>\n",
       "      <td>7</td>\n",
       "    </tr>\n",
       "  </tbody>\n",
       "</table>\n",
       "</div>"
      ],
      "text/plain": [
       "                                           file_path  ECOREGION_ID  type  \\\n",
       "0  /home/rhamilton/code/cnwi/test_data/aoi_NS/dat...           122     1   \n",
       "1  /home/rhamilton/code/cnwi/test_data/aoi_NS/dat...           122     2   \n",
       "2  /home/rhamilton/code/cnwi/test_data/aoi_NS/dat...           122     3   \n",
       "3  /home/rhamilton/code/cnwi/test_data/aoi_NS/dat...           123     1   \n",
       "4  /home/rhamilton/code/cnwi/test_data/aoi_NS/dat...           123     2   \n",
       "\n",
       "   ECOZONE_ID  \n",
       "0           7  \n",
       "1           7  \n",
       "2           7  \n",
       "3           7  \n",
       "4           7  "
      ]
     },
     "execution_count": 3,
     "metadata": {},
     "output_type": "execute_result"
    }
   ],
   "source": [
    "manifest.create()\n",
    "\n",
    "# manifest.save(\n",
    "#     where=DATA_DIR /'output'/ \"manifest.csv\",\n",
    "# )\n",
    "\n",
    "manifest.manifest.head()\n"
   ]
  }
 ],
 "metadata": {
  "kernelspec": {
   "display_name": "Python 3",
   "language": "python",
   "name": "python3"
  },
  "language_info": {
   "codemirror_mode": {
    "name": "ipython",
    "version": 3
   },
   "file_extension": ".py",
   "mimetype": "text/x-python",
   "name": "python",
   "nbconvert_exporter": "python",
   "pygments_lexer": "ipython3",
   "version": "3.11.6"
  }
 },
 "nbformat": 4,
 "nbformat_minor": 2
}
