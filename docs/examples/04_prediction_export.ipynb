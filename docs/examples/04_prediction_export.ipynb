{
 "cells": [
  {
   "cell_type": "code",
   "execution_count": 1,
   "metadata": {},
   "outputs": [],
   "source": [
    "import ee\n",
    "\n",
    "ee.Initialize()"
   ]
  },
  {
   "cell_type": "code",
   "execution_count": 2,
   "metadata": {},
   "outputs": [],
   "source": [
    "model = ee.Classifier.load(\"projects/ee-nwrc-geomatics/assets/cnwi/cnwi_model_122\")"
   ]
  },
  {
   "cell_type": "code",
   "execution_count": 6,
   "metadata": {},
   "outputs": [],
   "source": [
    "import payload\n",
    "\n",
    "plyd = payload.Payload\n"
   ]
  },
  {
   "cell_type": "code",
   "execution_count": 9,
   "metadata": {},
   "outputs": [],
   "source": [
    "from cnwi.cnwilib.image_collection import DataCubeProcessor, S1Processor, ALOSProcessor\n",
    "# process the data cube\n",
    "\n",
    "def image_processing(features, s1, dc) -> ee.Image:\n",
    "    \n",
    "    # Data Cube Processing\n",
    "    dc_col = ee.ImageCollection(dc).filterBounds(features)\n",
    "    dc_proc = DataCubeProcessor(dc_col).process().collection\n",
    "\n",
    "    # S1 Processing\n",
    "    s1_col = ee.ImageCollection(s1).filterBounds(features)\n",
    "    s1_proc = S1Processor(s1_col).process().collection\n",
    "\n",
    "    alos_proc = ALOSProcessor(\n",
    "        start_date='2018',\n",
    "        end_date='2021',\n",
    "        region=features,\n",
    "    ).process().collection\n",
    "    \n",
    "    # combine all the images\n",
    "    return ee.Image.cat(dc_proc, s1_proc, alos_proc)\n",
    "\n",
    "region = ee.FeatureCollection(\"projects/ee-nwrc-geomatics/assets/cnwi/regions_122\")\n",
    "image = image_processing(region, plyd.s1, plyd.s2)\n"
   ]
  },
  {
   "cell_type": "code",
   "execution_count": 10,
   "metadata": {},
   "outputs": [],
   "source": [
    "prediction = image.classify(model)"
   ]
  },
  {
   "cell_type": "code",
   "execution_count": 11,
   "metadata": {},
   "outputs": [
    {
     "data": {
      "application/vnd.jupyter.widget-view+json": {
       "model_id": "c56b88bd7f8241a8a93cada2088f0b25",
       "version_major": 2,
       "version_minor": 0
      },
      "text/plain": [
       "Map(center=[45.886020240278434, -63.42401428370772], controls=(WidgetControl(options=['position', 'transparent…"
      ]
     },
     "execution_count": 11,
     "metadata": {},
     "output_type": "execute_result"
    }
   ],
   "source": [
    "import geemap\n",
    "\n",
    "Map = geemap.Map()\n",
    "\n",
    "Map.addLayer(prediction, {'min': 1, 'max': 8}, \"CNWI Prediction\")\n",
    "Map.centerObject(region, 8)\n",
    "Map"
   ]
  },
  {
   "cell_type": "code",
   "execution_count": null,
   "metadata": {},
   "outputs": [],
   "source": []
  }
 ],
 "metadata": {
  "kernelspec": {
   "display_name": "Python 3",
   "language": "python",
   "name": "python3"
  },
  "language_info": {
   "codemirror_mode": {
    "name": "ipython",
    "version": 3
   },
   "file_extension": ".py",
   "mimetype": "text/x-python",
   "name": "python",
   "nbconvert_exporter": "python",
   "pygments_lexer": "ipython3",
   "version": "3.11.6"
  }
 },
 "nbformat": 4,
 "nbformat_minor": 2
}
