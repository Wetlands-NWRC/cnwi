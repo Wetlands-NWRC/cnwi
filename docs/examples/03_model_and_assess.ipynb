{
 "cells": [
  {
   "cell_type": "code",
   "execution_count": null,
   "metadata": {},
   "outputs": [],
   "source": [
    "import ee\n",
    "\n",
    "ee.Initialize()"
   ]
  },
  {
   "cell_type": "code",
   "execution_count": null,
   "metadata": {},
   "outputs": [],
   "source": [
    "# load our features\n",
    "features = ee.FeatureCollection(\"<Feature Collection Name Here>\")\n",
    "train = features.filter(ee.Filter.eq('type', 1))\n",
    "test = features.filter(ee.Filter.eq('type', 2))\n",
    "\n",
    "# create the model\n",
    "from cnwi.cnwilib.random_forest import SmileRandomForest\n",
    "\n",
    "model = SmileRandomForest()\n",
    "\n",
    "# train the model\n",
    "## load the predictors\n",
    "with open('predictors.txt', 'r') as f:\n",
    "    predictors = f.read().splitlines()\n",
    "\n",
    "model.fit(\n",
    "    features=train,\n",
    "    classProperty='class_name',\n",
    "    inputProperties=predictors,\n",
    ")\n",
    "\n",
    "# predict the model on the test set\n",
    "predict = model.predict(test)\n",
    "\n",
    "# save the model\n",
    "model.save_model()\n",
    "\n",
    "# save the assessment metrics\n",
    "from cnwi.cnwilib.assessment import AssessmentTable\n",
    "\n",
    "assessment = AssessmentTable(\n",
    "    predicted=predict,\n",
    "    actual='class_name',\n",
    "    order=features.aggregate_array('class_name').distinct()\n",
    ")\n",
    "\n",
    "table = assessment.create_metrics()\n",
    "\n",
    "## export to drive\n",
    "task = ee.batch.Export.table.toDrive(\n",
    "    collection=table,\n",
    "    description='assessment',\n",
    "    folder='cnwi-assessment-metrics',\n",
    "    fileFormat='CSV'\n",
    ")"
   ]
  }
 ],
 "metadata": {
  "language_info": {
   "name": "python"
  }
 },
 "nbformat": 4,
 "nbformat_minor": 2
}
