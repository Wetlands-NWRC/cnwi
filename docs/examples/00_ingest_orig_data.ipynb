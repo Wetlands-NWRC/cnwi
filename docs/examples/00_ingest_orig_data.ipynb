{
 "cells": [
  {
   "cell_type": "code",
   "execution_count": 2,
   "metadata": {},
   "outputs": [],
   "source": [
    "from pathlib import Path\n",
    "from cnwi.cnwilib import ingest\n",
    "\n",
    "\n",
    "ingest.ingest_data(\n",
    "    src=Path(\"../../test_data/aoi_NS/data\"),\n",
    "    dest=Path(\"output/ingested\"),\n",
    ")"
   ]
  },
  {
   "cell_type": "code",
   "execution_count": 1,
   "metadata": {},
   "outputs": [
    {
     "name": "stdout",
     "output_type": "stream",
     "text": [
      "Asset home already exists\n"
     ]
    }
   ],
   "source": [
    "import ee\n",
    "\n",
    "ee.Initialize()\n",
    "\n",
    "PROJECT_ROOT = \"projects/ee-nwrc-geomatics/assets/cnwi\"\n",
    "\n",
    "try:\n",
    "    ee.data.createAssetHome(PROJECT_ROOT)\n",
    "except ee.EEException:\n",
    "    print(\"Asset home already exists\")\n",
    "\n"
   ]
  },
  {
   "cell_type": "code",
   "execution_count": 5,
   "metadata": {},
   "outputs": [],
   "source": [
    "try:\n",
    "    ee.data.createAssetHome(PROJECT_ROOT + \"/ingested\")\n",
    "except ee.EEException:\n",
    "    print(\"Folder already exists\")"
   ]
  },
  {
   "cell_type": "code",
   "execution_count": 6,
   "metadata": {},
   "outputs": [],
   "source": [
    "try:\n",
    "    ee.data.createAssetHome(PROJECT_ROOT + \"/samples\")\n",
    "except ee.EEException:\n",
    "    print(\"Folder already exists\")\n"
   ]
  },
  {
   "cell_type": "code",
   "execution_count": 7,
   "metadata": {},
   "outputs": [],
   "source": [
    "try:\n",
    "    ee.data.createAssetHome(PROJECT_ROOT + \"/models\")\n",
    "except ee.EEException:\n",
    "    print(\"Folder already exists\")"
   ]
  },
  {
   "cell_type": "code",
   "execution_count": null,
   "metadata": {},
   "outputs": [],
   "source": []
  }
 ],
 "metadata": {
  "kernelspec": {
   "display_name": "Python 3",
   "language": "python",
   "name": "python3"
  },
  "language_info": {
   "codemirror_mode": {
    "name": "ipython",
    "version": 3
   },
   "file_extension": ".py",
   "mimetype": "text/x-python",
   "name": "python",
   "nbconvert_exporter": "python",
   "pygments_lexer": "ipython3",
   "version": "3.11.6"
  }
 },
 "nbformat": 4,
 "nbformat_minor": 2
}
