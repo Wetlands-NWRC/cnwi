{
 "cells": [
  {
   "cell_type": "code",
   "execution_count": 32,
   "metadata": {},
   "outputs": [],
   "source": [
    "# need to mention that the data needs to be uploaded to gee asset store first before running this script"
   ]
  },
  {
   "cell_type": "code",
   "execution_count": 33,
   "metadata": {},
   "outputs": [],
   "source": [
    "import ee\n",
    "\n",
    "ee.Initialize()"
   ]
  },
  {
   "cell_type": "code",
   "execution_count": 34,
   "metadata": {},
   "outputs": [
    {
     "data": {
      "text/html": [
       "<div>\n",
       "<style scoped>\n",
       "    .dataframe tbody tr th:only-of-type {\n",
       "        vertical-align: middle;\n",
       "    }\n",
       "\n",
       "    .dataframe tbody tr th {\n",
       "        vertical-align: top;\n",
       "    }\n",
       "\n",
       "    .dataframe thead th {\n",
       "        text-align: right;\n",
       "    }\n",
       "</style>\n",
       "<table border=\"1\" class=\"dataframe\">\n",
       "  <thead>\n",
       "    <tr style=\"text-align: right;\">\n",
       "      <th></th>\n",
       "      <th>type</th>\n",
       "      <th>name</th>\n",
       "      <th>id</th>\n",
       "      <th>updateTime</th>\n",
       "      <th>root</th>\n",
       "      <th>asset_name</th>\n",
       "      <th>data_type</th>\n",
       "      <th>region_id</th>\n",
       "    </tr>\n",
       "  </thead>\n",
       "  <tbody>\n",
       "    <tr>\n",
       "      <th>0</th>\n",
       "      <td>TABLE</td>\n",
       "      <td>projects/ee-nwrc-geomatics/assets/cnwi/ingeste...</td>\n",
       "      <td>projects/ee-nwrc-geomatics/assets/cnwi/ingeste...</td>\n",
       "      <td>2024-01-05T15:20:35.416973Z</td>\n",
       "      <td>ingested</td>\n",
       "      <td>features_122</td>\n",
       "      <td>features</td>\n",
       "      <td>122</td>\n",
       "    </tr>\n",
       "    <tr>\n",
       "      <th>1</th>\n",
       "      <td>TABLE</td>\n",
       "      <td>projects/ee-nwrc-geomatics/assets/cnwi/ingeste...</td>\n",
       "      <td>projects/ee-nwrc-geomatics/assets/cnwi/ingeste...</td>\n",
       "      <td>2024-01-05T15:20:57.841998Z</td>\n",
       "      <td>ingested</td>\n",
       "      <td>features_123</td>\n",
       "      <td>features</td>\n",
       "      <td>123</td>\n",
       "    </tr>\n",
       "    <tr>\n",
       "      <th>2</th>\n",
       "      <td>TABLE</td>\n",
       "      <td>projects/ee-nwrc-geomatics/assets/cnwi/ingeste...</td>\n",
       "      <td>projects/ee-nwrc-geomatics/assets/cnwi/ingeste...</td>\n",
       "      <td>2024-01-05T15:21:30.916322Z</td>\n",
       "      <td>ingested</td>\n",
       "      <td>features_124</td>\n",
       "      <td>features</td>\n",
       "      <td>124</td>\n",
       "    </tr>\n",
       "  </tbody>\n",
       "</table>\n",
       "</div>"
      ],
      "text/plain": [
       "    type                                               name  \\\n",
       "0  TABLE  projects/ee-nwrc-geomatics/assets/cnwi/ingeste...   \n",
       "1  TABLE  projects/ee-nwrc-geomatics/assets/cnwi/ingeste...   \n",
       "2  TABLE  projects/ee-nwrc-geomatics/assets/cnwi/ingeste...   \n",
       "\n",
       "                                                  id  \\\n",
       "0  projects/ee-nwrc-geomatics/assets/cnwi/ingeste...   \n",
       "1  projects/ee-nwrc-geomatics/assets/cnwi/ingeste...   \n",
       "2  projects/ee-nwrc-geomatics/assets/cnwi/ingeste...   \n",
       "\n",
       "                    updateTime      root    asset_name data_type region_id  \n",
       "0  2024-01-05T15:20:35.416973Z  ingested  features_122  features       122  \n",
       "1  2024-01-05T15:20:57.841998Z  ingested  features_123  features       123  \n",
       "2  2024-01-05T15:21:30.916322Z  ingested  features_124  features       124  "
      ]
     },
     "execution_count": 34,
     "metadata": {},
     "output_type": "execute_result"
    }
   ],
   "source": [
    "from cnwi.cnwilib.datautils import ee_features_manifest\n",
    "\n",
    "features_manifest = ee_features_manifest(\n",
    "    root='projects/ee-nwrc-geomatics/assets/cnwi/ingested'\n",
    ")\n",
    "\n",
    "features_manifest"
   ]
  },
  {
   "cell_type": "code",
   "execution_count": 35,
   "metadata": {},
   "outputs": [
    {
     "name": "stdout",
     "output_type": "stream",
     "text": [
      "{'geometry': {'coordinates': [-65.45633494351331, 44.824792284488844],\n",
      "              'type': 'Point'},\n",
      " 'id': '00000000000000000000',\n",
      " 'properties': {'ECOREGION_': 123, 'class_name': 1, 'type': 1},\n",
      " 'type': 'Feature'}\n"
     ]
    }
   ],
   "source": [
    "from pprint import pprint\n",
    "# features to sample\n",
    "row = features_manifest.iloc[1]\n",
    "features = ee.FeatureCollection(row['id'])\n",
    "\n",
    "pprint(features.first().getInfo())"
   ]
  },
  {
   "cell_type": "code",
   "execution_count": 36,
   "metadata": {},
   "outputs": [],
   "source": [
    "# load a module from path\n",
    "import importlib\n",
    "\n",
    "module = importlib.import_module('payload')\n",
    "payload = module.Payload\n"
   ]
  },
  {
   "cell_type": "code",
   "execution_count": 37,
   "metadata": {},
   "outputs": [],
   "source": [
    "from cnwi.cnwilib.image_collection import DataCubeProcessor, S1Processor, ALOSProcessor\n",
    "# process the data cube\n",
    "\n",
    "def image_processing(features, payload) -> ee.Image:\n",
    "    \n",
    "    # Data Cube Processing\n",
    "    dc_id = payload.s2\n",
    "    dc_col = ee.ImageCollection(dc_id).filterBounds(features)\n",
    "    dc_proc = DataCubeProcessor(dc_col).process().collection\n",
    "\n",
    "    # S1 Processing\n",
    "    s1_col = ee.ImageCollection(module.Payload.s1).filterBounds(features)\n",
    "    s1_proc = S1Processor(s1_col).process().collection\n",
    "\n",
    "    alos_proc = ALOSProcessor(\n",
    "        start_date='2018',\n",
    "        end_date='2021',\n",
    "        region=features,\n",
    "    ).process().collection\n",
    "    \n",
    "    # combine all the images\n",
    "    return ee.Image.cat(dc_proc, s1_proc, alos_proc)\n",
    "\n",
    "image = image_processing(features, payload)\n",
    "bands = image.bandNames().getInfo()\n",
    "\n",
    "with open('bands.txt', 'w') as f:\n",
    "    f.write('\\n'.join(bands))"
   ]
  },
  {
   "cell_type": "code",
   "execution_count": 38,
   "metadata": {},
   "outputs": [],
   "source": [
    "for _, row in features_manifest.iterrows():\n",
    "    if not ee.data._credentials:\n",
    "        ee.Initialize()\n",
    "\n",
    "    features = ee.FeatureCollection(row['id'])\n",
    "    \n",
    "    image = image_processing(features, payload)\n",
    "    \n",
    "    sample = image.sampleRegions(\n",
    "        collection=features,\n",
    "        tileScale=16,\n",
    "        scale=10,\n",
    "        geometries=True,\n",
    "    )\n",
    "    asset_id = f\"projects/ee-nwrc-geomatics/assets/cnwi/samples/sampled_{row['region_id']}\"\n",
    "    task = ee.batch.Export.table.toAsset(\n",
    "        assetId=asset_id,\n",
    "        description=\"\",\n",
    "        collection=sample,\n",
    "    )\n",
    "    task.start()\n",
    "    ee.Reset()"
   ]
  }
 ],
 "metadata": {
  "kernelspec": {
   "display_name": "Python 3",
   "language": "python",
   "name": "python3"
  },
  "language_info": {
   "codemirror_mode": {
    "name": "ipython",
    "version": 3
   },
   "file_extension": ".py",
   "mimetype": "text/x-python",
   "name": "python",
   "nbconvert_exporter": "python",
   "pygments_lexer": "ipython3",
   "version": "3.11.6"
  }
 },
 "nbformat": 4,
 "nbformat_minor": 2
}
