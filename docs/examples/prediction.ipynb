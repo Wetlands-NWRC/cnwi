{
 "cells": [
  {
   "cell_type": "code",
   "execution_count": 1,
   "metadata": {},
   "outputs": [],
   "source": [
    "import ee\n",
    "\n",
    "ee.Initialize()"
   ]
  },
  {
   "cell_type": "code",
   "execution_count": 2,
   "metadata": {},
   "outputs": [],
   "source": [
    "from dataclasses import dataclass\n",
    "\n",
    "\n",
    "@dataclass\n",
    "class Payload:\n",
    "    s1 = [\n",
    "        \"COPERNICUS/S1_GRD/S1A_IW_GRDH_1SDV_20190601T220203_20190601T220228_027492_031A28_EB74\",\n",
    "        \"COPERNICUS/S1_GRD/S1A_IW_GRDH_1SDV_20190601T220228_20190601T220253_027492_031A28_1D62\",\n",
    "        \"COPERNICUS/S1_GRD/S1A_IW_GRDH_1SDV_20190601T220253_20190601T220318_027492_031A28_B0EC\",\n",
    "        \"COPERNICUS/S1_GRD/S1A_IW_GRDH_1SDV_20190601T220318_20190601T220343_027492_031A28_3A0C\",\n",
    "        \"COPERNICUS/S1_GRD/S1A_IW_GRDH_1SDV_20190731T220207_20190731T220232_028367_0334A1_0ECA\",\n",
    "        \"COPERNICUS/S1_GRD/S1A_IW_GRDH_1SDV_20190731T220232_20190731T220257_028367_0334A1_32FF\",\n",
    "        \"COPERNICUS/S1_GRD/S1A_IW_GRDH_1SDV_20190731T220257_20190731T220322_028367_0334A1_4F99\",\n",
    "        \"COPERNICUS/S1_GRD/S1A_IW_GRDH_1SDV_20190731T220322_20190731T220347_028367_0334A1_7758\",\n",
    "        \"COPERNICUS/S1_GRD/S1A_IW_GRDH_1SDV_20190606T221027_20190606T221052_027565_031C53_C63B\",\n",
    "        \"COPERNICUS/S1_GRD/S1A_IW_GRDH_1SDV_20190606T221052_20190606T221117_027565_031C53_1088\",\n",
    "        \"COPERNICUS/S1_GRD/S1A_IW_GRDH_1SDV_20190606T221117_20190606T221142_027565_031C53_7FD5\",\n",
    "        \"COPERNICUS/S1_GRD/S1A_IW_GRDH_1SDV_20190606T221142_20190606T221207_027565_031C53_E704\",\n",
    "        \"COPERNICUS/S1_GRD/S1A_IW_GRDH_1SDV_20190805T221031_20190805T221056_028440_0336C5_08AD\",\n",
    "        \"COPERNICUS/S1_GRD/S1A_IW_GRDH_1SDV_20190805T221056_20190805T221121_028440_0336C5_8F55\",\n",
    "        \"COPERNICUS/S1_GRD/S1A_IW_GRDH_1SDV_20190805T221121_20190805T221146_028440_0336C5_322A\",\n",
    "        \"COPERNICUS/S1_GRD/S1A_IW_GRDH_1SDV_20190805T221146_20190805T221211_028440_0336C5_0053\",\n",
    "        \"COPERNICUS/S1_GRD/S1A_IW_GRDH_1SDV_20190527T215404_20190527T215429_027419_0317D3_FF9D\",\n",
    "        \"COPERNICUS/S1_GRD/S1A_IW_GRDH_1SDV_20190527T215429_20190527T215454_027419_0317D3_48EB\",\n",
    "        \"COPERNICUS/S1_GRD/S1A_IW_GRDH_1SDV_20190527T215454_20190527T215519_027419_0317D3_1009\",\n",
    "        \"COPERNICUS/S1_GRD/S1A_IW_GRDH_1SDV_20190527T215519_20190527T215544_027419_0317D3_501E\",\n",
    "        \"COPERNICUS/S1_GRD/S1A_IW_GRDH_1SDV_20190726T215408_20190726T215433_028294_033253_09E6\",\n",
    "        \"COPERNICUS/S1_GRD/S1A_IW_GRDH_1SDV_20190726T215433_20190726T215458_028294_033253_92C9\",\n",
    "        \"COPERNICUS/S1_GRD/S1A_IW_GRDH_1SDV_20190726T215458_20190726T215523_028294_033253_8B6E\",\n",
    "        \"COPERNICUS/S1_GRD/S1A_IW_GRDH_1SDV_20190726T215523_20190726T215548_028294_033253_7A46\",\n",
    "        \"COPERNICUS/S1_GRD/S1B_IW_GRDH_1SDV_20190605T221811_20190605T221836_016567_01F302_2750\",\n",
    "        \"COPERNICUS/S1_GRD/S1B_IW_GRDH_1SDV_20190605T221836_20190605T221901_016567_01F302_AFE0\",\n",
    "        \"COPERNICUS/S1_GRD/S1A_IW_GRDH_1SDV_20190729T221905_20190729T221934_028338_0333B8_EEBB\",\n",
    "        \"COPERNICUS/S1_GRD/S1A_IW_GRDH_1SDV_20190729T221934_20190729T221959_028338_0333B8_1E30\",\n",
    "        \"COPERNICUS/S1_GRD/S1A_IW_GRDH_1SDV_20190729T221959_20190729T222024_028338_0333B8_BD9F\",\n",
    "    ]\n",
    "    s2 = \"projects/fpca-336015/assets/cnwi-datasets/aoi_novascotia/datacube\"\n",
    "    fourier = \"projects/fpca-336015/assets/NovaScotia/fourier_transform\"\n",
    "    terrain = \"projects/fpca-336015/assets/NovaScotia/terrain_analysis\"\n",
    "\n",
    "payload = Payload"
   ]
  },
  {
   "cell_type": "code",
   "execution_count": 6,
   "metadata": {},
   "outputs": [
    {
     "data": {
      "text/html": [
       "<div>\n",
       "<style scoped>\n",
       "    .dataframe tbody tr th:only-of-type {\n",
       "        vertical-align: middle;\n",
       "    }\n",
       "\n",
       "    .dataframe tbody tr th {\n",
       "        vertical-align: top;\n",
       "    }\n",
       "\n",
       "    .dataframe thead th {\n",
       "        text-align: right;\n",
       "    }\n",
       "</style>\n",
       "<table border=\"1\" class=\"dataframe\">\n",
       "  <thead>\n",
       "    <tr style=\"text-align: right;\">\n",
       "      <th></th>\n",
       "      <th>type</th>\n",
       "      <th>name</th>\n",
       "      <th>id</th>\n",
       "      <th>updateTime</th>\n",
       "      <th>root</th>\n",
       "      <th>asset_name</th>\n",
       "      <th>data_type</th>\n",
       "      <th>region_id</th>\n",
       "    </tr>\n",
       "  </thead>\n",
       "  <tbody>\n",
       "    <tr>\n",
       "      <th>0</th>\n",
       "      <td>TABLE</td>\n",
       "      <td>projects/ee-nwrc-geomatics/assets/cnwi/feature...</td>\n",
       "      <td>projects/ee-nwrc-geomatics/assets/cnwi/feature...</td>\n",
       "      <td>2023-12-22T15:06:50.431786Z</td>\n",
       "      <td>cnwi</td>\n",
       "      <td>features_122</td>\n",
       "      <td>features</td>\n",
       "      <td>122</td>\n",
       "    </tr>\n",
       "    <tr>\n",
       "      <th>1</th>\n",
       "      <td>TABLE</td>\n",
       "      <td>projects/ee-nwrc-geomatics/assets/cnwi/feature...</td>\n",
       "      <td>projects/ee-nwrc-geomatics/assets/cnwi/feature...</td>\n",
       "      <td>2023-12-22T15:09:14.404835Z</td>\n",
       "      <td>cnwi</td>\n",
       "      <td>features_123</td>\n",
       "      <td>features</td>\n",
       "      <td>123</td>\n",
       "    </tr>\n",
       "    <tr>\n",
       "      <th>2</th>\n",
       "      <td>TABLE</td>\n",
       "      <td>projects/ee-nwrc-geomatics/assets/cnwi/feature...</td>\n",
       "      <td>projects/ee-nwrc-geomatics/assets/cnwi/feature...</td>\n",
       "      <td>2023-12-22T15:09:36.218640Z</td>\n",
       "      <td>cnwi</td>\n",
       "      <td>features_124</td>\n",
       "      <td>features</td>\n",
       "      <td>124</td>\n",
       "    </tr>\n",
       "    <tr>\n",
       "      <th>3</th>\n",
       "      <td>TABLE</td>\n",
       "      <td>projects/ee-nwrc-geomatics/assets/cnwi/feature...</td>\n",
       "      <td>projects/ee-nwrc-geomatics/assets/cnwi/feature...</td>\n",
       "      <td>2023-12-22T15:10:07.712464Z</td>\n",
       "      <td>cnwi</td>\n",
       "      <td>features_125</td>\n",
       "      <td>features</td>\n",
       "      <td>125</td>\n",
       "    </tr>\n",
       "    <tr>\n",
       "      <th>4</th>\n",
       "      <td>TABLE</td>\n",
       "      <td>projects/ee-nwrc-geomatics/assets/cnwi/feature...</td>\n",
       "      <td>projects/ee-nwrc-geomatics/assets/cnwi/feature...</td>\n",
       "      <td>2023-12-22T15:10:14.911408Z</td>\n",
       "      <td>cnwi</td>\n",
       "      <td>features_126</td>\n",
       "      <td>features</td>\n",
       "      <td>126</td>\n",
       "    </tr>\n",
       "  </tbody>\n",
       "</table>\n",
       "</div>"
      ],
      "text/plain": [
       "    type                                               name  \\\n",
       "0  TABLE  projects/ee-nwrc-geomatics/assets/cnwi/feature...   \n",
       "1  TABLE  projects/ee-nwrc-geomatics/assets/cnwi/feature...   \n",
       "2  TABLE  projects/ee-nwrc-geomatics/assets/cnwi/feature...   \n",
       "3  TABLE  projects/ee-nwrc-geomatics/assets/cnwi/feature...   \n",
       "4  TABLE  projects/ee-nwrc-geomatics/assets/cnwi/feature...   \n",
       "\n",
       "                                                  id  \\\n",
       "0  projects/ee-nwrc-geomatics/assets/cnwi/feature...   \n",
       "1  projects/ee-nwrc-geomatics/assets/cnwi/feature...   \n",
       "2  projects/ee-nwrc-geomatics/assets/cnwi/feature...   \n",
       "3  projects/ee-nwrc-geomatics/assets/cnwi/feature...   \n",
       "4  projects/ee-nwrc-geomatics/assets/cnwi/feature...   \n",
       "\n",
       "                    updateTime  root    asset_name data_type  region_id  \n",
       "0  2023-12-22T15:06:50.431786Z  cnwi  features_122  features        122  \n",
       "1  2023-12-22T15:09:14.404835Z  cnwi  features_123  features        123  \n",
       "2  2023-12-22T15:09:36.218640Z  cnwi  features_124  features        124  \n",
       "3  2023-12-22T15:10:07.712464Z  cnwi  features_125  features        125  \n",
       "4  2023-12-22T15:10:14.911408Z  cnwi  features_126  features        126  "
      ]
     },
     "execution_count": 6,
     "metadata": {},
     "output_type": "execute_result"
    }
   ],
   "source": [
    "import pandas as pd\n",
    "\n",
    "assets = pd.read_csv('/home/rhamilton/code/cnwi/test_data/aoi_NS/output/server_assets.csv')\n",
    "assets.head()"
   ]
  },
  {
   "cell_type": "code",
   "execution_count": 9,
   "metadata": {},
   "outputs": [],
   "source": [
    "regions = assets[assets['data_type'] == 'regions']\n",
    "row = regions.iloc[0]\n",
    "ee_geometry = ee.FeatureCollection(row['id']).geometry()"
   ]
  },
  {
   "cell_type": "code",
   "execution_count": 10,
   "metadata": {},
   "outputs": [],
   "source": [
    "class ImageStack:\n",
    "    def __init__(self) -> None:\n",
    "        self.data = []\n",
    "    \n",
    "    def add(self, image):\n",
    "        self.data.append(image)\n",
    "        return self\n",
    "    \n",
    "    def stack(self):\n",
    "        return ee.Image.cat(*self.data[::-1])\n",
    "    \n",
    "img_stack = ImageStack()"
   ]
  },
  {
   "cell_type": "code",
   "execution_count": 11,
   "metadata": {},
   "outputs": [
    {
     "data": {
      "text/plain": [
       "<__main__.ImageStack at 0x7fac9a7bb5d0>"
      ]
     },
     "execution_count": 11,
     "metadata": {},
     "output_type": "execute_result"
    }
   ],
   "source": [
    "# Data Cube Processing\n",
    "from cnwi.cnwilib.image_collection import DataCubeProcessor\n",
    "\n",
    "ic = ee.ImageCollection(payload.s2).filterBounds(ee_geometry)\n",
    "dc_proc = DataCubeProcessor(ic)\n",
    "dc_proc.process()\n",
    "img_stack.add(dc_proc.collection)\n",
    " "
   ]
  },
  {
   "cell_type": "code",
   "execution_count": 12,
   "metadata": {},
   "outputs": [
    {
     "data": {
      "text/plain": [
       "<__main__.ImageStack at 0x7fac9a7bb5d0>"
      ]
     },
     "execution_count": 12,
     "metadata": {},
     "output_type": "execute_result"
    }
   ],
   "source": [
    "from cnwi.cnwilib.image_collection import S1Processor\n",
    "s1_collection = ee.ImageCollection(payload.s1).filterBounds(ee_geometry)\n",
    "\n",
    "s1_spring = s1_collection.filterDate('2019-03-01', '2019-05-31')\n",
    "s1_spring_proc = S1Processor(s1_spring).process()\n",
    "img_stack.add(s1_spring_proc.collection)\n",
    "\n",
    "s1_summer = s1_collection.filterDate('2019-06-01', '2019-08-31')\n",
    "s1_summer_proc = S1Processor(s1_summer).process()\n",
    "img_stack.add(s1_summer_proc.collection)"
   ]
  },
  {
   "cell_type": "code",
   "execution_count": 13,
   "metadata": {},
   "outputs": [
    {
     "data": {
      "text/plain": [
       "<__main__.ImageStack at 0x7fac9a7bb5d0>"
      ]
     },
     "execution_count": 13,
     "metadata": {},
     "output_type": "execute_result"
    }
   ],
   "source": [
    "from cnwi.cnwilib.image_collection import ALOSProcessor\n",
    "alos_proc = ALOSProcessor().process()\n",
    "img_stack.add(alos_proc.collection)\n"
   ]
  },
  {
   "cell_type": "code",
   "execution_count": 14,
   "metadata": {},
   "outputs": [],
   "source": [
    "stack = img_stack.stack()"
   ]
  },
  {
   "cell_type": "code",
   "execution_count": 15,
   "metadata": {},
   "outputs": [],
   "source": [
    "from cnwi.cnwilib.random_forest import SmileRandomForest\n",
    "\n",
    "model = SmileRandomForest().load_model(\n",
    "    asset_name=\"projects/ee-nwrc-geomatics/assets/cnwi/cnwi_model_122\"\n",
    ")\n",
    "\n",
    "prediction = model.predict(stack)"
   ]
  },
  {
   "cell_type": "code",
   "execution_count": 17,
   "metadata": {},
   "outputs": [],
   "source": [
    "task = ee.batch.Export.image.toDrive(\n",
    "    image=prediction,\n",
    "    description=\"cnwi_prediction\",\n",
    "    folder=\"cnwi_prediction_122\",\n",
    "    scale=10,\n",
    "    region=ee_geometry,\n",
    "    maxPixels=1e13,\n",
    "    crs='EPSG:4326',\n",
    "    fileFormat='GeoTIFF',\n",
    "    skipEmptyTiles=True,\n",
    "    fileDimensions=[2048, 2048],\n",
    "    formatOptions={\n",
    "        'cloudOptimized': True\n",
    "    }\n",
    ")\n",
    "\n",
    "task.start()\n",
    "    "
   ]
  },
  {
   "cell_type": "code",
   "execution_count": null,
   "metadata": {},
   "outputs": [],
   "source": []
  }
 ],
 "metadata": {
  "kernelspec": {
   "display_name": "Python 3",
   "language": "python",
   "name": "python3"
  },
  "language_info": {
   "codemirror_mode": {
    "name": "ipython",
    "version": 3
   },
   "file_extension": ".py",
   "mimetype": "text/x-python",
   "name": "python",
   "nbconvert_exporter": "python",
   "pygments_lexer": "ipython3",
   "version": "3.11.6"
  }
 },
 "nbformat": 4,
 "nbformat_minor": 2
}
