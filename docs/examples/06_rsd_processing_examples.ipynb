{
 "cells": [
  {
   "cell_type": "code",
   "execution_count": 1,
   "metadata": {},
   "outputs": [],
   "source": [
    "import ee\n",
    "\n",
    "ee.Initialize()\n",
    "\n"
   ]
  },
  {
   "cell_type": "code",
   "execution_count": 2,
   "metadata": {},
   "outputs": [],
   "source": [
    "roi = ee.FeatureCollection(\"projects/ee-nwrc-geomatics/assets/cnwi/regions_124\")\n"
   ]
  },
  {
   "cell_type": "code",
   "execution_count": 3,
   "metadata": {},
   "outputs": [
    {
     "data": {
      "text/plain": [
       "<cnwi.rsdproc.DataCubeProc at 0x7f3e48358fd0>"
      ]
     },
     "execution_count": 3,
     "metadata": {},
     "output_type": "execute_result"
    }
   ],
   "source": [
    "from cnwi.rsdproc import DataCubeProc\n",
    "dc_col = ee.ImageCollection(\"projects/fpca-336015/assets/cnwi-datasets/aoi_novascotia/datacube\")\n",
    "dc_proc = DataCubeProc(\n",
    "    collection=dc_col,\n",
    "    region=roi,\n",
    ")\n",
    "\n",
    "dc_proc.process()\n"
   ]
  },
  {
   "cell_type": "code",
   "execution_count": 4,
   "metadata": {},
   "outputs": [
    {
     "data": {
      "text/plain": [
       "<cnwi.rsdproc.S1Proc at 0x7f3e2ac5a5d0>"
      ]
     },
     "execution_count": 4,
     "metadata": {},
     "output_type": "execute_result"
    }
   ],
   "source": [
    "from cnwi.rsdproc import S1Proc\n",
    "\n",
    "s1_col = ee.ImageCollection(\"COPERNICUS/S1_GRD\")\n",
    "s1_proc = S1Proc(s1_col, roi, start_date=\"2019-06-01\", end_date=\"2019-09-01\")\n",
    "s1_proc.process()"
   ]
  },
  {
   "cell_type": "code",
   "execution_count": 5,
   "metadata": {},
   "outputs": [
    {
     "data": {
      "text/plain": [
       "['VV', 'VH', 'VV_VH']"
      ]
     },
     "execution_count": 5,
     "metadata": {},
     "output_type": "execute_result"
    }
   ],
   "source": [
    "s1_proc.collection.first().bandNames().getInfo()"
   ]
  },
  {
   "cell_type": "code",
   "execution_count": 6,
   "metadata": {},
   "outputs": [
    {
     "data": {
      "text/plain": [
       "['HH', 'HV', 'HH_HV']"
      ]
     },
     "execution_count": 6,
     "metadata": {},
     "output_type": "execute_result"
    }
   ],
   "source": [
    "from cnwi.rsdproc import ALOSProc\n",
    "\n",
    "al_proc = ALOSProc(roi, start_date=\"2019\", end_date=\"2020\")\n",
    "al_proc.process()\n",
    "\n",
    "# for debugging\n",
    "al_proc.collection.first().bandNames().getInfo()"
   ]
  },
  {
   "cell_type": "code",
   "execution_count": null,
   "metadata": {},
   "outputs": [],
   "source": []
  }
 ],
 "metadata": {
  "kernelspec": {
   "display_name": "Python 3",
   "language": "python",
   "name": "python3"
  },
  "language_info": {
   "codemirror_mode": {
    "name": "ipython",
    "version": 3
   },
   "file_extension": ".py",
   "mimetype": "text/x-python",
   "name": "python",
   "nbconvert_exporter": "python",
   "pygments_lexer": "ipython3",
   "version": "3.11.6"
  }
 },
 "nbformat": 4,
 "nbformat_minor": 2
}
