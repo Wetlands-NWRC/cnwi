{
 "cells": [
  {
   "cell_type": "code",
   "execution_count": 1,
   "metadata": {},
   "outputs": [],
   "source": [
    "import ee"
   ]
  },
  {
   "cell_type": "code",
   "execution_count": 2,
   "metadata": {},
   "outputs": [],
   "source": [
    "ee.Initialize()"
   ]
  },
  {
   "cell_type": "code",
   "execution_count": 3,
   "metadata": {},
   "outputs": [],
   "source": [
    "# create a feature collection from the training data\n",
    "features = ee.FeatureCollection([\n",
    "    ee.Feature(ee.Geometry.Point(1, 2), {'class': 0}),\n",
    "    ee.Feature(ee.Geometry.Point(2, 3), {'class': 1}),\n",
    "    ee.Feature(ee.Geometry.Point(3, 4), {'class': 0}),\n",
    "    ee.Feature(ee.Geometry.Point(4, 5), {'class': 1}),\n",
    "    ee.Feature(ee.Geometry.Point(5, 6), {'class': 0}),\n",
    "    ee.Feature(ee.Geometry.Point(6, 7), {'class': 1}),\n",
    "])"
   ]
  },
  {
   "cell_type": "code",
   "execution_count": 4,
   "metadata": {},
   "outputs": [],
   "source": [
    "# create a synthetic image for sampling\n",
    "image = ee.Image(list(range(1, 7))).rename(['B1', 'B2', 'B3', 'B4', 'B5', 'B6']).reproject('EPSG:4326', None, 30)\n"
   ]
  },
  {
   "cell_type": "code",
   "execution_count": 5,
   "metadata": {},
   "outputs": [],
   "source": [
    "# create a sample from the image\n",
    "sample = image.sampleRegions(\n",
    "    collection=features,\n",
    "    scale=30,\n",
    ")"
   ]
  },
  {
   "cell_type": "code",
   "execution_count": 6,
   "metadata": {},
   "outputs": [
    {
     "data": {
      "text/plain": [
       "{'type': 'Feature',\n",
       " 'geometry': None,\n",
       " 'id': '0_0',\n",
       " 'properties': {'B1': 1,\n",
       "  'B2': 2,\n",
       "  'B3': 3,\n",
       "  'B4': 4,\n",
       "  'B5': 5,\n",
       "  'B6': 6,\n",
       "  'class': 0}}"
      ]
     },
     "execution_count": 6,
     "metadata": {},
     "output_type": "execute_result"
    }
   ],
   "source": [
    "sample.first().getInfo()"
   ]
  },
  {
   "cell_type": "code",
   "execution_count": 8,
   "metadata": {},
   "outputs": [
    {
     "data": {
      "text/plain": [
       "{'type': 'Image',\n",
       " 'bands': [{'id': 'classification',\n",
       "   'data_type': {'type': 'PixelType',\n",
       "    'precision': 'int',\n",
       "    'min': -2147483648,\n",
       "    'max': 2147483647},\n",
       "   'crs': 'EPSG:4326',\n",
       "   'crs_transform': [0.00026949458523585647,\n",
       "    0,\n",
       "    0,\n",
       "    0,\n",
       "    -0.00026949458523585647,\n",
       "    0]}]}"
      ]
     },
     "execution_count": 8,
     "metadata": {},
     "output_type": "execute_result"
    }
   ],
   "source": [
    "# import the smile random forest wrapper class\n",
    "from cnwi.cnwilib.random_forest import SmileRandomForest\n",
    "\n",
    "rf = SmileRandomForest() # accept all default parameters\n",
    "# train the model\n",
    "rf.fit(sample, 'class', ['B1', 'B2', 'B3', 'B4', 'B5', 'B6'])\n",
    "# make a prediction using the trained model\n",
    "prediction = rf.predict(image)\n",
    "prediction.getInfo()"
   ]
  },
  {
   "cell_type": "code",
   "execution_count": null,
   "metadata": {},
   "outputs": [],
   "source": []
  }
 ],
 "metadata": {
  "kernelspec": {
   "display_name": "Python 3",
   "language": "python",
   "name": "python3"
  },
  "language_info": {
   "codemirror_mode": {
    "name": "ipython",
    "version": 3
   },
   "file_extension": ".py",
   "mimetype": "text/x-python",
   "name": "python",
   "nbconvert_exporter": "python",
   "pygments_lexer": "ipython3",
   "version": "3.11.6"
  }
 },
 "nbformat": 4,
 "nbformat_minor": 2
}
