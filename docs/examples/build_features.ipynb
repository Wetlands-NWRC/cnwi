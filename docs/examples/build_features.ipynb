{
 "cells": [
  {
   "cell_type": "code",
   "execution_count": 1,
   "metadata": {},
   "outputs": [],
   "source": [
    "from pathlib import Path\n",
    "\n",
    "import geopandas as gpd\n",
    "import pandas as pd\n",
    "\n",
    "import ee"
   ]
  },
  {
   "cell_type": "code",
   "execution_count": 2,
   "metadata": {},
   "outputs": [],
   "source": [
    "PROJECT_ROOT = Path('/home/rhamilton/code/cnwi/test_data/aoi_NS')\n",
    "SOURCE_DATA = PROJECT_ROOT / 'data'\n"
   ]
  },
  {
   "cell_type": "code",
   "execution_count": 3,
   "metadata": {},
   "outputs": [],
   "source": [
    "## On init move raw data to output/data\n",
    "\n",
    "\n",
    "output = PROJECT_ROOT / Path(\"output\")\n",
    "if not output.exists():\n",
    "    output.mkdir()\n",
    "\n",
    "data = PROJECT_ROOT /output / Path(\"data\")\n",
    "if not data.exists():\n",
    "    data.mkdir()\n",
    "\n",
    "raw = PROJECT_ROOT / output / data / Path(\"raw\")\n",
    "if not raw.exists():\n",
    "    raw.mkdir()\n",
    "\n",
    "\n"
   ]
  },
  {
   "cell_type": "code",
   "execution_count": 4,
   "metadata": {},
   "outputs": [
    {
     "data": {
      "text/plain": [
       "PosixPath('/home/rhamilton/code/cnwi/test_data/aoi_NS/output/data/raw')"
      ]
     },
     "execution_count": 4,
     "metadata": {},
     "output_type": "execute_result"
    }
   ],
   "source": [
    "from shutil import copytree\n",
    "\n",
    "copytree(SOURCE_DATA, raw, dirs_exist_ok=True)\n"
   ]
  },
  {
   "cell_type": "markdown",
   "metadata": {},
   "source": [
    "# 1: Create the Data Manifest\n",
    "- Point to the data source"
   ]
  },
  {
   "cell_type": "code",
   "execution_count": 5,
   "metadata": {},
   "outputs": [
    {
     "data": {
      "text/plain": [
       "<cnwi.cnwilib.data.Manifest at 0x7feaf72b1c10>"
      ]
     },
     "execution_count": 5,
     "metadata": {},
     "output_type": "execute_result"
    }
   ],
   "source": [
    "# create the manifest\n",
    "from cnwi.cnwilib.data import Manifest\n",
    "\n",
    "manifest = Manifest(raw)\n",
    "manifest.create()\n",
    "\n"
   ]
  },
  {
   "cell_type": "code",
   "execution_count": 6,
   "metadata": {},
   "outputs": [
    {
     "data": {
      "text/plain": [
       "<cnwi.cnwilib.data.Manifest at 0x7feaf72b1c10>"
      ]
     },
     "execution_count": 6,
     "metadata": {},
     "output_type": "execute_result"
    }
   ],
   "source": [
    "# export reference data\n",
    "# map from the manifest\n",
    "# and the manifest to the reference data \n",
    "ref_dir = output / Path(\"manifests\")\n",
    "ref_dir.mkdir(exist_ok=True)\n",
    "manifest.save(ref_dir / Path(\"manifest.csv\"))"
   ]
  },
  {
   "cell_type": "markdown",
   "metadata": {},
   "source": [
    "# 2: Process the Data in the Data Manifest\n",
    "- Data Engineering happens in this step\n",
    "- export of manifest to disk\n",
    "- export of data lookup to disk\n",
    "- export of features and regions to disk"
   ]
  },
  {
   "cell_type": "code",
   "execution_count": 7,
   "metadata": {},
   "outputs": [],
   "source": [
    "from cnwi.cnwilib.data import ManifestProcessor\n",
    "\n",
    "proc = ManifestProcessor(manifest)\n",
    "proc.process()\n"
   ]
  },
  {
   "cell_type": "code",
   "execution_count": 8,
   "metadata": {},
   "outputs": [
    {
     "data": {
      "text/html": [
       "<div>\n",
       "<style scoped>\n",
       "    .dataframe tbody tr th:only-of-type {\n",
       "        vertical-align: middle;\n",
       "    }\n",
       "\n",
       "    .dataframe tbody tr th {\n",
       "        vertical-align: top;\n",
       "    }\n",
       "\n",
       "    .dataframe thead th {\n",
       "        text-align: right;\n",
       "    }\n",
       "</style>\n",
       "<table border=\"1\" class=\"dataframe\">\n",
       "  <thead>\n",
       "    <tr style=\"text-align: right;\">\n",
       "      <th></th>\n",
       "      <th>class_name</th>\n",
       "      <th>geometry</th>\n",
       "      <th>type</th>\n",
       "      <th>region_id</th>\n",
       "    </tr>\n",
       "  </thead>\n",
       "  <tbody>\n",
       "    <tr>\n",
       "      <th>0</th>\n",
       "      <td>1</td>\n",
       "      <td>POINT (-62.66561 45.66387)</td>\n",
       "      <td>1</td>\n",
       "      <td>122</td>\n",
       "    </tr>\n",
       "    <tr>\n",
       "      <th>1</th>\n",
       "      <td>1</td>\n",
       "      <td>POINT (-63.62492 45.79504)</td>\n",
       "      <td>1</td>\n",
       "      <td>122</td>\n",
       "    </tr>\n",
       "    <tr>\n",
       "      <th>2</th>\n",
       "      <td>1</td>\n",
       "      <td>POINT (-62.59665 45.56264)</td>\n",
       "      <td>1</td>\n",
       "      <td>122</td>\n",
       "    </tr>\n",
       "    <tr>\n",
       "      <th>3</th>\n",
       "      <td>1</td>\n",
       "      <td>POINT (-64.05334 45.86434)</td>\n",
       "      <td>1</td>\n",
       "      <td>122</td>\n",
       "    </tr>\n",
       "    <tr>\n",
       "      <th>4</th>\n",
       "      <td>1</td>\n",
       "      <td>POINT (-64.22656 46.01314)</td>\n",
       "      <td>1</td>\n",
       "      <td>122</td>\n",
       "    </tr>\n",
       "  </tbody>\n",
       "</table>\n",
       "</div>"
      ],
      "text/plain": [
       "   class_name                    geometry  type region_id\n",
       "0           1  POINT (-62.66561 45.66387)     1       122\n",
       "1           1  POINT (-63.62492 45.79504)     1       122\n",
       "2           1  POINT (-62.59665 45.56264)     1       122\n",
       "3           1  POINT (-64.05334 45.86434)     1       122\n",
       "4           1  POINT (-64.22656 46.01314)     1       122"
      ]
     },
     "execution_count": 8,
     "metadata": {},
     "output_type": "execute_result"
    }
   ],
   "source": [
    "\n",
    "proc.training.head()\n"
   ]
  },
  {
   "cell_type": "code",
   "execution_count": 9,
   "metadata": {},
   "outputs": [
    {
     "data": {
      "text/plain": [
       "<cnwi.cnwilib.data.ManifestProcessor at 0x7fec4caaf350>"
      ]
     },
     "execution_count": 9,
     "metadata": {},
     "output_type": "execute_result"
    }
   ],
   "source": [
    "# create the root directory for the processed data\n",
    "\n",
    "# save the training data and regions to disk\n",
    "# create a processed dir under the output dir\n",
    "proc_dir = data / Path(\"processed\")\n",
    "if not proc_dir.exists():\n",
    "    proc_dir.mkdir()\n",
    "    \n",
    "proc.save_training(where=proc_dir, fname='features.geojson', driver='GeoJSON')\n",
    "proc.save_regions(where=proc_dir, fname='regions.geojson', driver='GeoJSON')\n"
   ]
  },
  {
   "cell_type": "markdown",
   "metadata": {},
   "source": [
    "# 3. Data Transformation\n",
    "- Compress the shapefile to a zip file"
   ]
  },
  {
   "cell_type": "code",
   "execution_count": 12,
   "metadata": {},
   "outputs": [],
   "source": [
    "from cnwi.cnwilib.data import features2Zip\n",
    "\n",
    "features2Zip(\n",
    "    gdf = proc.training,\n",
    "    groupby_col='region_id',\n",
    "    where=proc_dir,\n",
    ")\n",
    "\n",
    "features2Zip(\n",
    "    gdf=proc.regions,\n",
    "    groupby_col='region_id',\n",
    "    where=proc_dir,\n",
    "    file_prefix='regions'\n",
    ")"
   ]
  },
  {
   "cell_type": "markdown",
   "metadata": {},
   "source": [
    "# 4. Upload data to asset\n",
    "- you have 2 options here\n",
    "    - upload to a new asset\n",
    "    - upload to cloud storage and then ingest the asset from cloud storage to the asset store\n",
    "- this example will assume you are uploading to a new asset\n",
    "- you would create a staging area for your data\n",
    "- you would then upload all the data in the zipped dir to the staging area before moving to the next step"
   ]
  },
  {
   "cell_type": "code",
   "execution_count": 7,
   "metadata": {},
   "outputs": [],
   "source": [
    "# # create the staging area for the data\n",
    "# ! earthengine create folder projects/ee-nwrc-geomatics/assets/cnwi"
   ]
  },
  {
   "cell_type": "markdown",
   "metadata": {},
   "source": [
    "After Creating the staging area you would manually upload the processed zip files to the staging area\n"
   ]
  },
  {
   "cell_type": "code",
   "execution_count": 13,
   "metadata": {},
   "outputs": [
    {
     "data": {
      "text/html": [
       "<div>\n",
       "<style scoped>\n",
       "    .dataframe tbody tr th:only-of-type {\n",
       "        vertical-align: middle;\n",
       "    }\n",
       "\n",
       "    .dataframe tbody tr th {\n",
       "        vertical-align: top;\n",
       "    }\n",
       "\n",
       "    .dataframe thead th {\n",
       "        text-align: right;\n",
       "    }\n",
       "</style>\n",
       "<table border=\"1\" class=\"dataframe\">\n",
       "  <thead>\n",
       "    <tr style=\"text-align: right;\">\n",
       "      <th></th>\n",
       "      <th>type</th>\n",
       "      <th>name</th>\n",
       "      <th>id</th>\n",
       "      <th>updateTime</th>\n",
       "    </tr>\n",
       "  </thead>\n",
       "  <tbody>\n",
       "    <tr>\n",
       "      <th>0</th>\n",
       "      <td>TABLE</td>\n",
       "      <td>projects/ee-nwrc-geomatics/assets/cnwi/feature...</td>\n",
       "      <td>projects/ee-nwrc-geomatics/assets/cnwi/feature...</td>\n",
       "      <td>2023-12-22T15:06:50.431786Z</td>\n",
       "    </tr>\n",
       "    <tr>\n",
       "      <th>1</th>\n",
       "      <td>TABLE</td>\n",
       "      <td>projects/ee-nwrc-geomatics/assets/cnwi/feature...</td>\n",
       "      <td>projects/ee-nwrc-geomatics/assets/cnwi/feature...</td>\n",
       "      <td>2023-12-22T15:09:14.404835Z</td>\n",
       "    </tr>\n",
       "    <tr>\n",
       "      <th>2</th>\n",
       "      <td>TABLE</td>\n",
       "      <td>projects/ee-nwrc-geomatics/assets/cnwi/feature...</td>\n",
       "      <td>projects/ee-nwrc-geomatics/assets/cnwi/feature...</td>\n",
       "      <td>2023-12-22T15:09:36.218640Z</td>\n",
       "    </tr>\n",
       "    <tr>\n",
       "      <th>3</th>\n",
       "      <td>TABLE</td>\n",
       "      <td>projects/ee-nwrc-geomatics/assets/cnwi/feature...</td>\n",
       "      <td>projects/ee-nwrc-geomatics/assets/cnwi/feature...</td>\n",
       "      <td>2023-12-22T15:10:07.712464Z</td>\n",
       "    </tr>\n",
       "    <tr>\n",
       "      <th>4</th>\n",
       "      <td>TABLE</td>\n",
       "      <td>projects/ee-nwrc-geomatics/assets/cnwi/feature...</td>\n",
       "      <td>projects/ee-nwrc-geomatics/assets/cnwi/feature...</td>\n",
       "      <td>2023-12-22T15:10:14.911408Z</td>\n",
       "    </tr>\n",
       "    <tr>\n",
       "      <th>5</th>\n",
       "      <td>TABLE</td>\n",
       "      <td>projects/ee-nwrc-geomatics/assets/cnwi/feature...</td>\n",
       "      <td>projects/ee-nwrc-geomatics/assets/cnwi/feature...</td>\n",
       "      <td>2023-12-22T15:10:40.991216Z</td>\n",
       "    </tr>\n",
       "    <tr>\n",
       "      <th>6</th>\n",
       "      <td>TABLE</td>\n",
       "      <td>projects/ee-nwrc-geomatics/assets/cnwi/feature...</td>\n",
       "      <td>projects/ee-nwrc-geomatics/assets/cnwi/feature...</td>\n",
       "      <td>2023-12-22T15:10:46.263744Z</td>\n",
       "    </tr>\n",
       "    <tr>\n",
       "      <th>7</th>\n",
       "      <td>TABLE</td>\n",
       "      <td>projects/ee-nwrc-geomatics/assets/cnwi/feature...</td>\n",
       "      <td>projects/ee-nwrc-geomatics/assets/cnwi/feature...</td>\n",
       "      <td>2023-12-22T15:11:02.586896Z</td>\n",
       "    </tr>\n",
       "    <tr>\n",
       "      <th>8</th>\n",
       "      <td>TABLE</td>\n",
       "      <td>projects/ee-nwrc-geomatics/assets/cnwi/regions...</td>\n",
       "      <td>projects/ee-nwrc-geomatics/assets/cnwi/regions...</td>\n",
       "      <td>2024-01-02T17:12:04.963964Z</td>\n",
       "    </tr>\n",
       "    <tr>\n",
       "      <th>9</th>\n",
       "      <td>TABLE</td>\n",
       "      <td>projects/ee-nwrc-geomatics/assets/cnwi/regions...</td>\n",
       "      <td>projects/ee-nwrc-geomatics/assets/cnwi/regions...</td>\n",
       "      <td>2024-01-02T17:12:22.956626Z</td>\n",
       "    </tr>\n",
       "    <tr>\n",
       "      <th>10</th>\n",
       "      <td>TABLE</td>\n",
       "      <td>projects/ee-nwrc-geomatics/assets/cnwi/regions...</td>\n",
       "      <td>projects/ee-nwrc-geomatics/assets/cnwi/regions...</td>\n",
       "      <td>2024-01-02T17:12:34.558611Z</td>\n",
       "    </tr>\n",
       "    <tr>\n",
       "      <th>11</th>\n",
       "      <td>TABLE</td>\n",
       "      <td>projects/ee-nwrc-geomatics/assets/cnwi/regions...</td>\n",
       "      <td>projects/ee-nwrc-geomatics/assets/cnwi/regions...</td>\n",
       "      <td>2024-01-02T17:13:26.497938Z</td>\n",
       "    </tr>\n",
       "    <tr>\n",
       "      <th>12</th>\n",
       "      <td>TABLE</td>\n",
       "      <td>projects/ee-nwrc-geomatics/assets/cnwi/regions...</td>\n",
       "      <td>projects/ee-nwrc-geomatics/assets/cnwi/regions...</td>\n",
       "      <td>2024-01-02T17:14:18.047930Z</td>\n",
       "    </tr>\n",
       "    <tr>\n",
       "      <th>13</th>\n",
       "      <td>TABLE</td>\n",
       "      <td>projects/ee-nwrc-geomatics/assets/cnwi/regions...</td>\n",
       "      <td>projects/ee-nwrc-geomatics/assets/cnwi/regions...</td>\n",
       "      <td>2024-01-02T17:14:33.558563Z</td>\n",
       "    </tr>\n",
       "    <tr>\n",
       "      <th>14</th>\n",
       "      <td>TABLE</td>\n",
       "      <td>projects/ee-nwrc-geomatics/assets/cnwi/regions...</td>\n",
       "      <td>projects/ee-nwrc-geomatics/assets/cnwi/regions...</td>\n",
       "      <td>2024-01-02T17:15:17.337722Z</td>\n",
       "    </tr>\n",
       "    <tr>\n",
       "      <th>15</th>\n",
       "      <td>TABLE</td>\n",
       "      <td>projects/ee-nwrc-geomatics/assets/cnwi/regions...</td>\n",
       "      <td>projects/ee-nwrc-geomatics/assets/cnwi/regions...</td>\n",
       "      <td>2024-01-02T17:15:40.263383Z</td>\n",
       "    </tr>\n",
       "  </tbody>\n",
       "</table>\n",
       "</div>"
      ],
      "text/plain": [
       "     type                                               name  \\\n",
       "0   TABLE  projects/ee-nwrc-geomatics/assets/cnwi/feature...   \n",
       "1   TABLE  projects/ee-nwrc-geomatics/assets/cnwi/feature...   \n",
       "2   TABLE  projects/ee-nwrc-geomatics/assets/cnwi/feature...   \n",
       "3   TABLE  projects/ee-nwrc-geomatics/assets/cnwi/feature...   \n",
       "4   TABLE  projects/ee-nwrc-geomatics/assets/cnwi/feature...   \n",
       "5   TABLE  projects/ee-nwrc-geomatics/assets/cnwi/feature...   \n",
       "6   TABLE  projects/ee-nwrc-geomatics/assets/cnwi/feature...   \n",
       "7   TABLE  projects/ee-nwrc-geomatics/assets/cnwi/feature...   \n",
       "8   TABLE  projects/ee-nwrc-geomatics/assets/cnwi/regions...   \n",
       "9   TABLE  projects/ee-nwrc-geomatics/assets/cnwi/regions...   \n",
       "10  TABLE  projects/ee-nwrc-geomatics/assets/cnwi/regions...   \n",
       "11  TABLE  projects/ee-nwrc-geomatics/assets/cnwi/regions...   \n",
       "12  TABLE  projects/ee-nwrc-geomatics/assets/cnwi/regions...   \n",
       "13  TABLE  projects/ee-nwrc-geomatics/assets/cnwi/regions...   \n",
       "14  TABLE  projects/ee-nwrc-geomatics/assets/cnwi/regions...   \n",
       "15  TABLE  projects/ee-nwrc-geomatics/assets/cnwi/regions...   \n",
       "\n",
       "                                                   id  \\\n",
       "0   projects/ee-nwrc-geomatics/assets/cnwi/feature...   \n",
       "1   projects/ee-nwrc-geomatics/assets/cnwi/feature...   \n",
       "2   projects/ee-nwrc-geomatics/assets/cnwi/feature...   \n",
       "3   projects/ee-nwrc-geomatics/assets/cnwi/feature...   \n",
       "4   projects/ee-nwrc-geomatics/assets/cnwi/feature...   \n",
       "5   projects/ee-nwrc-geomatics/assets/cnwi/feature...   \n",
       "6   projects/ee-nwrc-geomatics/assets/cnwi/feature...   \n",
       "7   projects/ee-nwrc-geomatics/assets/cnwi/feature...   \n",
       "8   projects/ee-nwrc-geomatics/assets/cnwi/regions...   \n",
       "9   projects/ee-nwrc-geomatics/assets/cnwi/regions...   \n",
       "10  projects/ee-nwrc-geomatics/assets/cnwi/regions...   \n",
       "11  projects/ee-nwrc-geomatics/assets/cnwi/regions...   \n",
       "12  projects/ee-nwrc-geomatics/assets/cnwi/regions...   \n",
       "13  projects/ee-nwrc-geomatics/assets/cnwi/regions...   \n",
       "14  projects/ee-nwrc-geomatics/assets/cnwi/regions...   \n",
       "15  projects/ee-nwrc-geomatics/assets/cnwi/regions...   \n",
       "\n",
       "                     updateTime  \n",
       "0   2023-12-22T15:06:50.431786Z  \n",
       "1   2023-12-22T15:09:14.404835Z  \n",
       "2   2023-12-22T15:09:36.218640Z  \n",
       "3   2023-12-22T15:10:07.712464Z  \n",
       "4   2023-12-22T15:10:14.911408Z  \n",
       "5   2023-12-22T15:10:40.991216Z  \n",
       "6   2023-12-22T15:10:46.263744Z  \n",
       "7   2023-12-22T15:11:02.586896Z  \n",
       "8   2024-01-02T17:12:04.963964Z  \n",
       "9   2024-01-02T17:12:22.956626Z  \n",
       "10  2024-01-02T17:12:34.558611Z  \n",
       "11  2024-01-02T17:13:26.497938Z  \n",
       "12  2024-01-02T17:14:18.047930Z  \n",
       "13  2024-01-02T17:14:33.558563Z  \n",
       "14  2024-01-02T17:15:17.337722Z  \n",
       "15  2024-01-02T17:15:40.263383Z  "
      ]
     },
     "execution_count": 13,
     "metadata": {},
     "output_type": "execute_result"
    }
   ],
   "source": [
    "import pandas as pd\n",
    "import ee\n",
    "ee.Initialize()\n",
    "sever_assets = ee.data.listAssets({'parent': 'projects/ee-nwrc-geomatics/assets/cnwi'})\n",
    "server_df = pd.DataFrame(sever_assets['assets'])\n",
    "server_df"
   ]
  },
  {
   "cell_type": "code",
   "execution_count": 18,
   "metadata": {},
   "outputs": [],
   "source": [
    "# split name into root and asset_name\n",
    "server_df['root'] = server_df['name'].apply(lambda x: x.split('/')[-2])\n",
    "server_df['asset_name'] = server_df['name'].apply(lambda x: x.split('/')[-1])\n",
    "server_df['data_type'] = server_df['asset_name'].apply(lambda x: x.split('_')[0])\n",
    "server_df['region_id'] = server_df['asset_name'].apply(lambda x: x.split('_')[1])\n",
    "server_df.to_csv(output/ Path('server_assets.csv'), index=False)"
   ]
  },
  {
   "cell_type": "code",
   "execution_count": 3,
   "metadata": {},
   "outputs": [
    {
     "data": {
      "text/html": [
       "<div>\n",
       "<style scoped>\n",
       "    .dataframe tbody tr th:only-of-type {\n",
       "        vertical-align: middle;\n",
       "    }\n",
       "\n",
       "    .dataframe tbody tr th {\n",
       "        vertical-align: top;\n",
       "    }\n",
       "\n",
       "    .dataframe thead th {\n",
       "        text-align: right;\n",
       "    }\n",
       "</style>\n",
       "<table border=\"1\" class=\"dataframe\">\n",
       "  <thead>\n",
       "    <tr style=\"text-align: right;\">\n",
       "      <th></th>\n",
       "      <th>type</th>\n",
       "      <th>name</th>\n",
       "      <th>id</th>\n",
       "      <th>updateTime</th>\n",
       "      <th>root</th>\n",
       "      <th>asset_name</th>\n",
       "    </tr>\n",
       "  </thead>\n",
       "  <tbody>\n",
       "    <tr>\n",
       "      <th>0</th>\n",
       "      <td>TABLE</td>\n",
       "      <td>projects/ee-nwrc-geomatics/assets/cnwi/feature...</td>\n",
       "      <td>projects/ee-nwrc-geomatics/assets/cnwi/feature...</td>\n",
       "      <td>2023-12-22T15:06:50.431786Z</td>\n",
       "      <td>cnwi</td>\n",
       "      <td>features_122</td>\n",
       "    </tr>\n",
       "    <tr>\n",
       "      <th>1</th>\n",
       "      <td>TABLE</td>\n",
       "      <td>projects/ee-nwrc-geomatics/assets/cnwi/feature...</td>\n",
       "      <td>projects/ee-nwrc-geomatics/assets/cnwi/feature...</td>\n",
       "      <td>2023-12-22T15:09:14.404835Z</td>\n",
       "      <td>cnwi</td>\n",
       "      <td>features_123</td>\n",
       "    </tr>\n",
       "    <tr>\n",
       "      <th>2</th>\n",
       "      <td>TABLE</td>\n",
       "      <td>projects/ee-nwrc-geomatics/assets/cnwi/feature...</td>\n",
       "      <td>projects/ee-nwrc-geomatics/assets/cnwi/feature...</td>\n",
       "      <td>2023-12-22T15:09:36.218640Z</td>\n",
       "      <td>cnwi</td>\n",
       "      <td>features_124</td>\n",
       "    </tr>\n",
       "    <tr>\n",
       "      <th>3</th>\n",
       "      <td>TABLE</td>\n",
       "      <td>projects/ee-nwrc-geomatics/assets/cnwi/feature...</td>\n",
       "      <td>projects/ee-nwrc-geomatics/assets/cnwi/feature...</td>\n",
       "      <td>2023-12-22T15:10:07.712464Z</td>\n",
       "      <td>cnwi</td>\n",
       "      <td>features_125</td>\n",
       "    </tr>\n",
       "    <tr>\n",
       "      <th>4</th>\n",
       "      <td>TABLE</td>\n",
       "      <td>projects/ee-nwrc-geomatics/assets/cnwi/feature...</td>\n",
       "      <td>projects/ee-nwrc-geomatics/assets/cnwi/feature...</td>\n",
       "      <td>2023-12-22T15:10:14.911408Z</td>\n",
       "      <td>cnwi</td>\n",
       "      <td>features_126</td>\n",
       "    </tr>\n",
       "    <tr>\n",
       "      <th>5</th>\n",
       "      <td>TABLE</td>\n",
       "      <td>projects/ee-nwrc-geomatics/assets/cnwi/feature...</td>\n",
       "      <td>projects/ee-nwrc-geomatics/assets/cnwi/feature...</td>\n",
       "      <td>2023-12-22T15:10:40.991216Z</td>\n",
       "      <td>cnwi</td>\n",
       "      <td>features_127</td>\n",
       "    </tr>\n",
       "    <tr>\n",
       "      <th>6</th>\n",
       "      <td>TABLE</td>\n",
       "      <td>projects/ee-nwrc-geomatics/assets/cnwi/feature...</td>\n",
       "      <td>projects/ee-nwrc-geomatics/assets/cnwi/feature...</td>\n",
       "      <td>2023-12-22T15:10:46.263744Z</td>\n",
       "      <td>cnwi</td>\n",
       "      <td>features_128</td>\n",
       "    </tr>\n",
       "    <tr>\n",
       "      <th>7</th>\n",
       "      <td>TABLE</td>\n",
       "      <td>projects/ee-nwrc-geomatics/assets/cnwi/feature...</td>\n",
       "      <td>projects/ee-nwrc-geomatics/assets/cnwi/feature...</td>\n",
       "      <td>2023-12-22T15:11:02.586896Z</td>\n",
       "      <td>cnwi</td>\n",
       "      <td>features_129</td>\n",
       "    </tr>\n",
       "  </tbody>\n",
       "</table>\n",
       "</div>"
      ],
      "text/plain": [
       "    type                                               name  \\\n",
       "0  TABLE  projects/ee-nwrc-geomatics/assets/cnwi/feature...   \n",
       "1  TABLE  projects/ee-nwrc-geomatics/assets/cnwi/feature...   \n",
       "2  TABLE  projects/ee-nwrc-geomatics/assets/cnwi/feature...   \n",
       "3  TABLE  projects/ee-nwrc-geomatics/assets/cnwi/feature...   \n",
       "4  TABLE  projects/ee-nwrc-geomatics/assets/cnwi/feature...   \n",
       "5  TABLE  projects/ee-nwrc-geomatics/assets/cnwi/feature...   \n",
       "6  TABLE  projects/ee-nwrc-geomatics/assets/cnwi/feature...   \n",
       "7  TABLE  projects/ee-nwrc-geomatics/assets/cnwi/feature...   \n",
       "\n",
       "                                                  id  \\\n",
       "0  projects/ee-nwrc-geomatics/assets/cnwi/feature...   \n",
       "1  projects/ee-nwrc-geomatics/assets/cnwi/feature...   \n",
       "2  projects/ee-nwrc-geomatics/assets/cnwi/feature...   \n",
       "3  projects/ee-nwrc-geomatics/assets/cnwi/feature...   \n",
       "4  projects/ee-nwrc-geomatics/assets/cnwi/feature...   \n",
       "5  projects/ee-nwrc-geomatics/assets/cnwi/feature...   \n",
       "6  projects/ee-nwrc-geomatics/assets/cnwi/feature...   \n",
       "7  projects/ee-nwrc-geomatics/assets/cnwi/feature...   \n",
       "\n",
       "                    updateTime  root    asset_name  \n",
       "0  2023-12-22T15:06:50.431786Z  cnwi  features_122  \n",
       "1  2023-12-22T15:09:14.404835Z  cnwi  features_123  \n",
       "2  2023-12-22T15:09:36.218640Z  cnwi  features_124  \n",
       "3  2023-12-22T15:10:07.712464Z  cnwi  features_125  \n",
       "4  2023-12-22T15:10:14.911408Z  cnwi  features_126  \n",
       "5  2023-12-22T15:10:40.991216Z  cnwi  features_127  \n",
       "6  2023-12-22T15:10:46.263744Z  cnwi  features_128  \n",
       "7  2023-12-22T15:11:02.586896Z  cnwi  features_129  "
      ]
     },
     "execution_count": 3,
     "metadata": {},
     "output_type": "execute_result"
    }
   ],
   "source": []
  },
  {
   "cell_type": "code",
   "execution_count": null,
   "metadata": {},
   "outputs": [],
   "source": [
    "# for sampling only need the training data"
   ]
  }
 ],
 "metadata": {
  "kernelspec": {
   "display_name": "Python 3",
   "language": "python",
   "name": "python3"
  },
  "language_info": {
   "codemirror_mode": {
    "name": "ipython",
    "version": 3
   },
   "file_extension": ".py",
   "mimetype": "text/x-python",
   "name": "python",
   "nbconvert_exporter": "python",
   "pygments_lexer": "ipython3",
   "version": "3.11.6"
  }
 },
 "nbformat": 4,
 "nbformat_minor": 2
}
