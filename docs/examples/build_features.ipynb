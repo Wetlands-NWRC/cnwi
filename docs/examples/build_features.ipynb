{
 "cells": [
  {
   "cell_type": "code",
   "execution_count": 1,
   "metadata": {},
   "outputs": [],
   "source": [
    "import geopandas as gpd\n",
    "import pandas as pd\n",
    "\n",
    "import ee"
   ]
  },
  {
   "cell_type": "code",
   "execution_count": 2,
   "metadata": {},
   "outputs": [],
   "source": [
    "ee.Initialize()"
   ]
  },
  {
   "cell_type": "code",
   "execution_count": 3,
   "metadata": {},
   "outputs": [],
   "source": [
    "# Training data\n",
    "\n",
    "from shapely.geometry import Point\n",
    "\n",
    "training  = gpd.GeoDataFrame({\n",
    "    'class_name': ['class_1', 'class_2', 'class_3'],\n",
    "    'geometry': [Point(0, 0), Point(1, 1), Point(2, 2)]\n",
    "})\n",
    "\n",
    "testing = gpd.GeoDataFrame({\n",
    "    'class_name': ['class_1', 'class_2', 'class_3'],\n",
    "    'geometry': [Point(0, 1), Point(1, 2), Point(2, 3)]\n",
    "})\n"
   ]
  },
  {
   "cell_type": "code",
   "execution_count": 4,
   "metadata": {},
   "outputs": [],
   "source": [
    "from cnwi.cnwilib.features import insert_is_training\n",
    "\n",
    "gdf, lookup = insert_is_training(training, testing)"
   ]
  },
  {
   "cell_type": "code",
   "execution_count": 9,
   "metadata": {},
   "outputs": [
    {
     "data": {
      "text/html": [
       "<div>\n",
       "<style scoped>\n",
       "    .dataframe tbody tr th:only-of-type {\n",
       "        vertical-align: middle;\n",
       "    }\n",
       "\n",
       "    .dataframe tbody tr th {\n",
       "        vertical-align: top;\n",
       "    }\n",
       "\n",
       "    .dataframe thead th {\n",
       "        text-align: right;\n",
       "    }\n",
       "</style>\n",
       "<table border=\"1\" class=\"dataframe\">\n",
       "  <thead>\n",
       "    <tr style=\"text-align: right;\">\n",
       "      <th></th>\n",
       "      <th>class_name</th>\n",
       "      <th>value</th>\n",
       "    </tr>\n",
       "  </thead>\n",
       "  <tbody>\n",
       "    <tr>\n",
       "      <th>0</th>\n",
       "      <td>class_1</td>\n",
       "      <td>1</td>\n",
       "    </tr>\n",
       "    <tr>\n",
       "      <th>1</th>\n",
       "      <td>class_2</td>\n",
       "      <td>2</td>\n",
       "    </tr>\n",
       "    <tr>\n",
       "      <th>2</th>\n",
       "      <td>class_3</td>\n",
       "      <td>3</td>\n",
       "    </tr>\n",
       "  </tbody>\n",
       "</table>\n",
       "</div>"
      ],
      "text/plain": [
       "  class_name  value\n",
       "0    class_1      1\n",
       "1    class_2      2\n",
       "2    class_3      3"
      ]
     },
     "execution_count": 9,
     "metadata": {},
     "output_type": "execute_result"
    }
   ],
   "source": [
    "# create a data lookup\n",
    "from cnwi.cnwilib.features import create_data_lookup\n",
    "data_lookup = create_data_lookup(gdf['class_name'])\n",
    "data_lookup"
   ]
  },
  {
   "cell_type": "code",
   "execution_count": 10,
   "metadata": {},
   "outputs": [
    {
     "data": {
      "text/html": [
       "<div>\n",
       "<style scoped>\n",
       "    .dataframe tbody tr th:only-of-type {\n",
       "        vertical-align: middle;\n",
       "    }\n",
       "\n",
       "    .dataframe tbody tr th {\n",
       "        vertical-align: top;\n",
       "    }\n",
       "\n",
       "    .dataframe thead th {\n",
       "        text-align: right;\n",
       "    }\n",
       "</style>\n",
       "<table border=\"1\" class=\"dataframe\">\n",
       "  <thead>\n",
       "    <tr style=\"text-align: right;\">\n",
       "      <th></th>\n",
       "      <th>class_name</th>\n",
       "      <th>geometry</th>\n",
       "      <th>is_training</th>\n",
       "      <th>value</th>\n",
       "    </tr>\n",
       "  </thead>\n",
       "  <tbody>\n",
       "    <tr>\n",
       "      <th>0</th>\n",
       "      <td>class_1</td>\n",
       "      <td>POINT (0.00000 0.00000)</td>\n",
       "      <td>1</td>\n",
       "      <td>1</td>\n",
       "    </tr>\n",
       "    <tr>\n",
       "      <th>1</th>\n",
       "      <td>class_1</td>\n",
       "      <td>POINT (0.00000 1.00000)</td>\n",
       "      <td>0</td>\n",
       "      <td>1</td>\n",
       "    </tr>\n",
       "    <tr>\n",
       "      <th>2</th>\n",
       "      <td>class_2</td>\n",
       "      <td>POINT (1.00000 1.00000)</td>\n",
       "      <td>1</td>\n",
       "      <td>2</td>\n",
       "    </tr>\n",
       "    <tr>\n",
       "      <th>3</th>\n",
       "      <td>class_2</td>\n",
       "      <td>POINT (1.00000 2.00000)</td>\n",
       "      <td>0</td>\n",
       "      <td>2</td>\n",
       "    </tr>\n",
       "    <tr>\n",
       "      <th>4</th>\n",
       "      <td>class_3</td>\n",
       "      <td>POINT (2.00000 2.00000)</td>\n",
       "      <td>1</td>\n",
       "      <td>3</td>\n",
       "    </tr>\n",
       "    <tr>\n",
       "      <th>5</th>\n",
       "      <td>class_3</td>\n",
       "      <td>POINT (2.00000 3.00000)</td>\n",
       "      <td>0</td>\n",
       "      <td>3</td>\n",
       "    </tr>\n",
       "  </tbody>\n",
       "</table>\n",
       "</div>"
      ],
      "text/plain": [
       "  class_name                 geometry  is_training  value\n",
       "0    class_1  POINT (0.00000 0.00000)            1      1\n",
       "1    class_1  POINT (0.00000 1.00000)            0      1\n",
       "2    class_2  POINT (1.00000 1.00000)            1      2\n",
       "3    class_2  POINT (1.00000 2.00000)            0      2\n",
       "4    class_3  POINT (2.00000 2.00000)            1      3\n",
       "5    class_3  POINT (2.00000 3.00000)            0      3"
      ]
     },
     "execution_count": 10,
     "metadata": {},
     "output_type": "execute_result"
    }
   ],
   "source": [
    "from cnwi.cnwilib.features import insert_values_into_features\n",
    "gdf = insert_values_into_features(gdf, data_lookup)\n",
    "gdf"
   ]
  },
  {
   "cell_type": "code",
   "execution_count": 12,
   "metadata": {},
   "outputs": [
    {
     "name": "stdout",
     "output_type": "stream",
     "text": [
      "{'geometry': {'coordinates': [0, 0], 'type': 'Point'},\n",
      " 'id': '0',\n",
      " 'properties': {'class_name': 'class_1', 'is_training': 1, 'value': 1},\n",
      " 'type': 'Feature'}\n"
     ]
    }
   ],
   "source": [
    "# convert to ee.FeatureCollection\n",
    "from pprint import pprint\n",
    "fc = ee.FeatureCollection(gdf.__geo_interface__)\n",
    "pprint(fc.first().getInfo())"
   ]
  },
  {
   "cell_type": "code",
   "execution_count": 13,
   "metadata": {},
   "outputs": [
    {
     "name": "stdout",
     "output_type": "stream",
     "text": [
      "{'geometry': None,\n",
      " 'id': '0_0',\n",
      " 'properties': {'B1': 1,\n",
      "                'B2': 2,\n",
      "                'B3': 3,\n",
      "                'B4': 4,\n",
      "                'B5': 5,\n",
      "                'B6': 6,\n",
      "                'class_name': 'class_1',\n",
      "                'is_training': 1,\n",
      "                'value': 1},\n",
      " 'type': 'Feature'}\n"
     ]
    }
   ],
   "source": [
    "# create our samples for training and testing\n",
    "from cnwi.cnwilib.features import sample_regions\n",
    "\n",
    "# synthetic image\n",
    "projection = ee.Projection(\"EPSG:4326\")\n",
    "image = (\n",
    "    ee.Image(list(range(1, 7)))\n",
    "    .rename([\"B1\", \"B2\", \"B3\", \"B4\", \"B5\", \"B6\"])\n",
    "    .reproject(projection)\n",
    ")\n",
    "\n",
    "samples = sample_regions(image, fc, scale=30, projection=projection)\n",
    "pprint(samples.first().getInfo())\n"
   ]
  },
  {
   "cell_type": "code",
   "execution_count": null,
   "metadata": {},
   "outputs": [],
   "source": []
  }
 ],
 "metadata": {
  "kernelspec": {
   "display_name": "Python 3",
   "language": "python",
   "name": "python3"
  },
  "language_info": {
   "codemirror_mode": {
    "name": "ipython",
    "version": 3
   },
   "file_extension": ".py",
   "mimetype": "text/x-python",
   "name": "python",
   "nbconvert_exporter": "python",
   "pygments_lexer": "ipython3",
   "version": "3.11.6"
  }
 },
 "nbformat": 4,
 "nbformat_minor": 2
}
